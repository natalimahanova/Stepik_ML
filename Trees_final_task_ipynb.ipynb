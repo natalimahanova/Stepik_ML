{
  "nbformat": 4,
  "nbformat_minor": 0,
  "metadata": {
    "colab": {
      "provenance": []
    },
    "kernelspec": {
      "name": "python3",
      "display_name": "Python 3"
    },
    "language_info": {
      "name": "python"
    }
  },
  "cells": [
    {
      "cell_type": "markdown",
      "source": [
        "# Решающие деревья. Практика"
      ],
      "metadata": {
        "id": "96bhRQbYM-vU"
      }
    },
    {
      "cell_type": "markdown",
      "source": [
        "В этом задании будем решать задачу классификации клиентов телекома: для каждого клиента необходимо определить, перестанет он пользоваться услугами оператора (оттоковый клиент) в ближайшее время или нет.\n",
        "\n",
        "В ноутбуке будем использовать несколько моделей, в том числе SVM, поэтому установим библиотеку для быстрого обучения SVM."
      ],
      "metadata": {
        "id": "0-tRk6fdxmB-"
      }
    },
    {
      "cell_type": "markdown",
      "source": [
        "## Импорт библиотек и загрузка данных"
      ],
      "metadata": {
        "id": "jgQbkVOINf_e"
      }
    },
    {
      "cell_type": "code",
      "source": [
        "# убедимся, что версия python < 3.10\n",
        "!python --version"
      ],
      "metadata": {
        "colab": {
          "base_uri": "https://localhost:8080/"
        },
        "id": "nYTOUd18b4f_",
        "outputId": "0c74022c-e4a7-4a67-e88b-d5407a0e9729"
      },
      "execution_count": 1,
      "outputs": [
        {
          "output_type": "stream",
          "name": "stdout",
          "text": [
            "Python 3.10.12\n"
          ]
        }
      ]
    },
    {
      "cell_type": "code",
      "source": [
        "%%capture\n",
        "!python -m pip install --upgrade pip\n",
        "!pip install --upgrade scikit-learn-intelex"
      ],
      "metadata": {
        "id": "FF4NTn-lb54s"
      },
      "execution_count": 2,
      "outputs": []
    },
    {
      "cell_type": "code",
      "source": [
        "from sklearnex import patch_sklearn\n",
        "patch_sklearn()"
      ],
      "metadata": {
        "colab": {
          "base_uri": "https://localhost:8080/"
        },
        "id": "mz6b0PHqb7Wq",
        "outputId": "c1977cb3-de13-4330-e5c7-2fbcb28d148c"
      },
      "execution_count": 1,
      "outputs": [
        {
          "output_type": "stream",
          "name": "stderr",
          "text": [
            "Intel(R) Extension for Scikit-learn* enabled (https://github.com/intel/scikit-learn-intelex)\n"
          ]
        }
      ]
    },
    {
      "cell_type": "code",
      "source": [
        "import sys\n",
        "import os\n",
        "import site\n",
        "import pandas as pd\n",
        "import numpy as np\n",
        "\n",
        "sys.path.append(os.path.join(os.path.dirname(site.getsitepackages()[0]), \"site-packages\"))"
      ],
      "metadata": {
        "id": "RJcBsRykTk3b"
      },
      "execution_count": 2,
      "outputs": []
    },
    {
      "cell_type": "code",
      "source": [
        "# зафиксируем константы\n",
        "RANDOM_STATE = 42"
      ],
      "metadata": {
        "id": "yZZGDLjyq6oQ"
      },
      "execution_count": 3,
      "outputs": []
    },
    {
      "cell_type": "code",
      "execution_count": 4,
      "metadata": {
        "id": "DIjF1xlpwOMd",
        "colab": {
          "base_uri": "https://localhost:8080/",
          "height": 241
        },
        "outputId": "e0870159-6e04-4f5d-bee7-0bf1cebbffe8"
      },
      "outputs": [
        {
          "output_type": "execute_result",
          "data": {
            "text/plain": [
              "  State  Account length  Area code International plan Voice mail plan  \\\n",
              "0    KS             128        415                 No             Yes   \n",
              "1    OH             107        415                 No             Yes   \n",
              "2    NJ             137        415                 No              No   \n",
              "3    OH              84        408                Yes              No   \n",
              "4    OK              75        415                Yes              No   \n",
              "\n",
              "   Number vmail messages  Total day minutes  Total day calls  \\\n",
              "0                     25              265.1              110   \n",
              "1                     26              161.6              123   \n",
              "2                      0              243.4              114   \n",
              "3                      0              299.4               71   \n",
              "4                      0              166.7              113   \n",
              "\n",
              "   Total day charge  Total eve minutes  Total eve calls  Total eve charge  \\\n",
              "0             45.07              197.4               99             16.78   \n",
              "1             27.47              195.5              103             16.62   \n",
              "2             41.38              121.2              110             10.30   \n",
              "3             50.90               61.9               88              5.26   \n",
              "4             28.34              148.3              122             12.61   \n",
              "\n",
              "   Total night minutes  Total night calls  Total night charge  \\\n",
              "0                244.7                 91               11.01   \n",
              "1                254.4                103               11.45   \n",
              "2                162.6                104                7.32   \n",
              "3                196.9                 89                8.86   \n",
              "4                186.9                121                8.41   \n",
              "\n",
              "   Total intl minutes  Total intl calls  Total intl charge  \\\n",
              "0                10.0                 3               2.70   \n",
              "1                13.7                 3               3.70   \n",
              "2                12.2                 5               3.29   \n",
              "3                 6.6                 7               1.78   \n",
              "4                10.1                 3               2.73   \n",
              "\n",
              "   Customer service calls  Churn  \n",
              "0                       1  False  \n",
              "1                       1  False  \n",
              "2                       0  False  \n",
              "3                       2  False  \n",
              "4                       3  False  "
            ],
            "text/html": [
              "\n",
              "  <div id=\"df-5c2236a3-c055-467a-b037-ce606cf5e22e\" class=\"colab-df-container\">\n",
              "    <div>\n",
              "<style scoped>\n",
              "    .dataframe tbody tr th:only-of-type {\n",
              "        vertical-align: middle;\n",
              "    }\n",
              "\n",
              "    .dataframe tbody tr th {\n",
              "        vertical-align: top;\n",
              "    }\n",
              "\n",
              "    .dataframe thead th {\n",
              "        text-align: right;\n",
              "    }\n",
              "</style>\n",
              "<table border=\"1\" class=\"dataframe\">\n",
              "  <thead>\n",
              "    <tr style=\"text-align: right;\">\n",
              "      <th></th>\n",
              "      <th>State</th>\n",
              "      <th>Account length</th>\n",
              "      <th>Area code</th>\n",
              "      <th>International plan</th>\n",
              "      <th>Voice mail plan</th>\n",
              "      <th>Number vmail messages</th>\n",
              "      <th>Total day minutes</th>\n",
              "      <th>Total day calls</th>\n",
              "      <th>Total day charge</th>\n",
              "      <th>Total eve minutes</th>\n",
              "      <th>Total eve calls</th>\n",
              "      <th>Total eve charge</th>\n",
              "      <th>Total night minutes</th>\n",
              "      <th>Total night calls</th>\n",
              "      <th>Total night charge</th>\n",
              "      <th>Total intl minutes</th>\n",
              "      <th>Total intl calls</th>\n",
              "      <th>Total intl charge</th>\n",
              "      <th>Customer service calls</th>\n",
              "      <th>Churn</th>\n",
              "    </tr>\n",
              "  </thead>\n",
              "  <tbody>\n",
              "    <tr>\n",
              "      <th>0</th>\n",
              "      <td>KS</td>\n",
              "      <td>128</td>\n",
              "      <td>415</td>\n",
              "      <td>No</td>\n",
              "      <td>Yes</td>\n",
              "      <td>25</td>\n",
              "      <td>265.1</td>\n",
              "      <td>110</td>\n",
              "      <td>45.07</td>\n",
              "      <td>197.4</td>\n",
              "      <td>99</td>\n",
              "      <td>16.78</td>\n",
              "      <td>244.7</td>\n",
              "      <td>91</td>\n",
              "      <td>11.01</td>\n",
              "      <td>10.0</td>\n",
              "      <td>3</td>\n",
              "      <td>2.70</td>\n",
              "      <td>1</td>\n",
              "      <td>False</td>\n",
              "    </tr>\n",
              "    <tr>\n",
              "      <th>1</th>\n",
              "      <td>OH</td>\n",
              "      <td>107</td>\n",
              "      <td>415</td>\n",
              "      <td>No</td>\n",
              "      <td>Yes</td>\n",
              "      <td>26</td>\n",
              "      <td>161.6</td>\n",
              "      <td>123</td>\n",
              "      <td>27.47</td>\n",
              "      <td>195.5</td>\n",
              "      <td>103</td>\n",
              "      <td>16.62</td>\n",
              "      <td>254.4</td>\n",
              "      <td>103</td>\n",
              "      <td>11.45</td>\n",
              "      <td>13.7</td>\n",
              "      <td>3</td>\n",
              "      <td>3.70</td>\n",
              "      <td>1</td>\n",
              "      <td>False</td>\n",
              "    </tr>\n",
              "    <tr>\n",
              "      <th>2</th>\n",
              "      <td>NJ</td>\n",
              "      <td>137</td>\n",
              "      <td>415</td>\n",
              "      <td>No</td>\n",
              "      <td>No</td>\n",
              "      <td>0</td>\n",
              "      <td>243.4</td>\n",
              "      <td>114</td>\n",
              "      <td>41.38</td>\n",
              "      <td>121.2</td>\n",
              "      <td>110</td>\n",
              "      <td>10.30</td>\n",
              "      <td>162.6</td>\n",
              "      <td>104</td>\n",
              "      <td>7.32</td>\n",
              "      <td>12.2</td>\n",
              "      <td>5</td>\n",
              "      <td>3.29</td>\n",
              "      <td>0</td>\n",
              "      <td>False</td>\n",
              "    </tr>\n",
              "    <tr>\n",
              "      <th>3</th>\n",
              "      <td>OH</td>\n",
              "      <td>84</td>\n",
              "      <td>408</td>\n",
              "      <td>Yes</td>\n",
              "      <td>No</td>\n",
              "      <td>0</td>\n",
              "      <td>299.4</td>\n",
              "      <td>71</td>\n",
              "      <td>50.90</td>\n",
              "      <td>61.9</td>\n",
              "      <td>88</td>\n",
              "      <td>5.26</td>\n",
              "      <td>196.9</td>\n",
              "      <td>89</td>\n",
              "      <td>8.86</td>\n",
              "      <td>6.6</td>\n",
              "      <td>7</td>\n",
              "      <td>1.78</td>\n",
              "      <td>2</td>\n",
              "      <td>False</td>\n",
              "    </tr>\n",
              "    <tr>\n",
              "      <th>4</th>\n",
              "      <td>OK</td>\n",
              "      <td>75</td>\n",
              "      <td>415</td>\n",
              "      <td>Yes</td>\n",
              "      <td>No</td>\n",
              "      <td>0</td>\n",
              "      <td>166.7</td>\n",
              "      <td>113</td>\n",
              "      <td>28.34</td>\n",
              "      <td>148.3</td>\n",
              "      <td>122</td>\n",
              "      <td>12.61</td>\n",
              "      <td>186.9</td>\n",
              "      <td>121</td>\n",
              "      <td>8.41</td>\n",
              "      <td>10.1</td>\n",
              "      <td>3</td>\n",
              "      <td>2.73</td>\n",
              "      <td>3</td>\n",
              "      <td>False</td>\n",
              "    </tr>\n",
              "  </tbody>\n",
              "</table>\n",
              "</div>\n",
              "    <div class=\"colab-df-buttons\">\n",
              "\n",
              "  <div class=\"colab-df-container\">\n",
              "    <button class=\"colab-df-convert\" onclick=\"convertToInteractive('df-5c2236a3-c055-467a-b037-ce606cf5e22e')\"\n",
              "            title=\"Convert this dataframe to an interactive table.\"\n",
              "            style=\"display:none;\">\n",
              "\n",
              "  <svg xmlns=\"http://www.w3.org/2000/svg\" height=\"24px\" viewBox=\"0 -960 960 960\">\n",
              "    <path d=\"M120-120v-720h720v720H120Zm60-500h600v-160H180v160Zm220 220h160v-160H400v160Zm0 220h160v-160H400v160ZM180-400h160v-160H180v160Zm440 0h160v-160H620v160ZM180-180h160v-160H180v160Zm440 0h160v-160H620v160Z\"/>\n",
              "  </svg>\n",
              "    </button>\n",
              "\n",
              "  <style>\n",
              "    .colab-df-container {\n",
              "      display:flex;\n",
              "      gap: 12px;\n",
              "    }\n",
              "\n",
              "    .colab-df-convert {\n",
              "      background-color: #E8F0FE;\n",
              "      border: none;\n",
              "      border-radius: 50%;\n",
              "      cursor: pointer;\n",
              "      display: none;\n",
              "      fill: #1967D2;\n",
              "      height: 32px;\n",
              "      padding: 0 0 0 0;\n",
              "      width: 32px;\n",
              "    }\n",
              "\n",
              "    .colab-df-convert:hover {\n",
              "      background-color: #E2EBFA;\n",
              "      box-shadow: 0px 1px 2px rgba(60, 64, 67, 0.3), 0px 1px 3px 1px rgba(60, 64, 67, 0.15);\n",
              "      fill: #174EA6;\n",
              "    }\n",
              "\n",
              "    .colab-df-buttons div {\n",
              "      margin-bottom: 4px;\n",
              "    }\n",
              "\n",
              "    [theme=dark] .colab-df-convert {\n",
              "      background-color: #3B4455;\n",
              "      fill: #D2E3FC;\n",
              "    }\n",
              "\n",
              "    [theme=dark] .colab-df-convert:hover {\n",
              "      background-color: #434B5C;\n",
              "      box-shadow: 0px 1px 3px 1px rgba(0, 0, 0, 0.15);\n",
              "      filter: drop-shadow(0px 1px 2px rgba(0, 0, 0, 0.3));\n",
              "      fill: #FFFFFF;\n",
              "    }\n",
              "  </style>\n",
              "\n",
              "    <script>\n",
              "      const buttonEl =\n",
              "        document.querySelector('#df-5c2236a3-c055-467a-b037-ce606cf5e22e button.colab-df-convert');\n",
              "      buttonEl.style.display =\n",
              "        google.colab.kernel.accessAllowed ? 'block' : 'none';\n",
              "\n",
              "      async function convertToInteractive(key) {\n",
              "        const element = document.querySelector('#df-5c2236a3-c055-467a-b037-ce606cf5e22e');\n",
              "        const dataTable =\n",
              "          await google.colab.kernel.invokeFunction('convertToInteractive',\n",
              "                                                    [key], {});\n",
              "        if (!dataTable) return;\n",
              "\n",
              "        const docLinkHtml = 'Like what you see? Visit the ' +\n",
              "          '<a target=\"_blank\" href=https://colab.research.google.com/notebooks/data_table.ipynb>data table notebook</a>'\n",
              "          + ' to learn more about interactive tables.';\n",
              "        element.innerHTML = '';\n",
              "        dataTable['output_type'] = 'display_data';\n",
              "        await google.colab.output.renderOutput(dataTable, element);\n",
              "        const docLink = document.createElement('div');\n",
              "        docLink.innerHTML = docLinkHtml;\n",
              "        element.appendChild(docLink);\n",
              "      }\n",
              "    </script>\n",
              "  </div>\n",
              "\n",
              "\n",
              "<div id=\"df-bc99747c-f2de-4309-95e0-7c4f9820c720\">\n",
              "  <button class=\"colab-df-quickchart\" onclick=\"quickchart('df-bc99747c-f2de-4309-95e0-7c4f9820c720')\"\n",
              "            title=\"Suggest charts\"\n",
              "            style=\"display:none;\">\n",
              "\n",
              "<svg xmlns=\"http://www.w3.org/2000/svg\" height=\"24px\"viewBox=\"0 0 24 24\"\n",
              "     width=\"24px\">\n",
              "    <g>\n",
              "        <path d=\"M19 3H5c-1.1 0-2 .9-2 2v14c0 1.1.9 2 2 2h14c1.1 0 2-.9 2-2V5c0-1.1-.9-2-2-2zM9 17H7v-7h2v7zm4 0h-2V7h2v10zm4 0h-2v-4h2v4z\"/>\n",
              "    </g>\n",
              "</svg>\n",
              "  </button>\n",
              "\n",
              "<style>\n",
              "  .colab-df-quickchart {\n",
              "      --bg-color: #E8F0FE;\n",
              "      --fill-color: #1967D2;\n",
              "      --hover-bg-color: #E2EBFA;\n",
              "      --hover-fill-color: #174EA6;\n",
              "      --disabled-fill-color: #AAA;\n",
              "      --disabled-bg-color: #DDD;\n",
              "  }\n",
              "\n",
              "  [theme=dark] .colab-df-quickchart {\n",
              "      --bg-color: #3B4455;\n",
              "      --fill-color: #D2E3FC;\n",
              "      --hover-bg-color: #434B5C;\n",
              "      --hover-fill-color: #FFFFFF;\n",
              "      --disabled-bg-color: #3B4455;\n",
              "      --disabled-fill-color: #666;\n",
              "  }\n",
              "\n",
              "  .colab-df-quickchart {\n",
              "    background-color: var(--bg-color);\n",
              "    border: none;\n",
              "    border-radius: 50%;\n",
              "    cursor: pointer;\n",
              "    display: none;\n",
              "    fill: var(--fill-color);\n",
              "    height: 32px;\n",
              "    padding: 0;\n",
              "    width: 32px;\n",
              "  }\n",
              "\n",
              "  .colab-df-quickchart:hover {\n",
              "    background-color: var(--hover-bg-color);\n",
              "    box-shadow: 0 1px 2px rgba(60, 64, 67, 0.3), 0 1px 3px 1px rgba(60, 64, 67, 0.15);\n",
              "    fill: var(--button-hover-fill-color);\n",
              "  }\n",
              "\n",
              "  .colab-df-quickchart-complete:disabled,\n",
              "  .colab-df-quickchart-complete:disabled:hover {\n",
              "    background-color: var(--disabled-bg-color);\n",
              "    fill: var(--disabled-fill-color);\n",
              "    box-shadow: none;\n",
              "  }\n",
              "\n",
              "  .colab-df-spinner {\n",
              "    border: 2px solid var(--fill-color);\n",
              "    border-color: transparent;\n",
              "    border-bottom-color: var(--fill-color);\n",
              "    animation:\n",
              "      spin 1s steps(1) infinite;\n",
              "  }\n",
              "\n",
              "  @keyframes spin {\n",
              "    0% {\n",
              "      border-color: transparent;\n",
              "      border-bottom-color: var(--fill-color);\n",
              "      border-left-color: var(--fill-color);\n",
              "    }\n",
              "    20% {\n",
              "      border-color: transparent;\n",
              "      border-left-color: var(--fill-color);\n",
              "      border-top-color: var(--fill-color);\n",
              "    }\n",
              "    30% {\n",
              "      border-color: transparent;\n",
              "      border-left-color: var(--fill-color);\n",
              "      border-top-color: var(--fill-color);\n",
              "      border-right-color: var(--fill-color);\n",
              "    }\n",
              "    40% {\n",
              "      border-color: transparent;\n",
              "      border-right-color: var(--fill-color);\n",
              "      border-top-color: var(--fill-color);\n",
              "    }\n",
              "    60% {\n",
              "      border-color: transparent;\n",
              "      border-right-color: var(--fill-color);\n",
              "    }\n",
              "    80% {\n",
              "      border-color: transparent;\n",
              "      border-right-color: var(--fill-color);\n",
              "      border-bottom-color: var(--fill-color);\n",
              "    }\n",
              "    90% {\n",
              "      border-color: transparent;\n",
              "      border-bottom-color: var(--fill-color);\n",
              "    }\n",
              "  }\n",
              "</style>\n",
              "\n",
              "  <script>\n",
              "    async function quickchart(key) {\n",
              "      const quickchartButtonEl =\n",
              "        document.querySelector('#' + key + ' button');\n",
              "      quickchartButtonEl.disabled = true;  // To prevent multiple clicks.\n",
              "      quickchartButtonEl.classList.add('colab-df-spinner');\n",
              "      try {\n",
              "        const charts = await google.colab.kernel.invokeFunction(\n",
              "            'suggestCharts', [key], {});\n",
              "      } catch (error) {\n",
              "        console.error('Error during call to suggestCharts:', error);\n",
              "      }\n",
              "      quickchartButtonEl.classList.remove('colab-df-spinner');\n",
              "      quickchartButtonEl.classList.add('colab-df-quickchart-complete');\n",
              "    }\n",
              "    (() => {\n",
              "      let quickchartButtonEl =\n",
              "        document.querySelector('#df-bc99747c-f2de-4309-95e0-7c4f9820c720 button');\n",
              "      quickchartButtonEl.style.display =\n",
              "        google.colab.kernel.accessAllowed ? 'block' : 'none';\n",
              "    })();\n",
              "  </script>\n",
              "</div>\n",
              "    </div>\n",
              "  </div>\n"
            ],
            "application/vnd.google.colaboratory.intrinsic+json": {
              "type": "dataframe",
              "variable_name": "df",
              "summary": "{\n  \"name\": \"df\",\n  \"rows\": 3333,\n  \"fields\": [\n    {\n      \"column\": \"State\",\n      \"properties\": {\n        \"dtype\": \"category\",\n        \"num_unique_values\": 51,\n        \"samples\": [\n          \"DC\",\n          \"WA\",\n          \"MS\"\n        ],\n        \"semantic_type\": \"\",\n        \"description\": \"\"\n      }\n    },\n    {\n      \"column\": \"Account length\",\n      \"properties\": {\n        \"dtype\": \"number\",\n        \"std\": 39,\n        \"min\": 1,\n        \"max\": 243,\n        \"num_unique_values\": 212,\n        \"samples\": [\n          172,\n          189,\n          44\n        ],\n        \"semantic_type\": \"\",\n        \"description\": \"\"\n      }\n    },\n    {\n      \"column\": \"Area code\",\n      \"properties\": {\n        \"dtype\": \"number\",\n        \"std\": 42,\n        \"min\": 408,\n        \"max\": 510,\n        \"num_unique_values\": 3,\n        \"samples\": [\n          415,\n          408,\n          510\n        ],\n        \"semantic_type\": \"\",\n        \"description\": \"\"\n      }\n    },\n    {\n      \"column\": \"International plan\",\n      \"properties\": {\n        \"dtype\": \"category\",\n        \"num_unique_values\": 2,\n        \"samples\": [\n          \"Yes\",\n          \"No\"\n        ],\n        \"semantic_type\": \"\",\n        \"description\": \"\"\n      }\n    },\n    {\n      \"column\": \"Voice mail plan\",\n      \"properties\": {\n        \"dtype\": \"category\",\n        \"num_unique_values\": 2,\n        \"samples\": [\n          \"No\",\n          \"Yes\"\n        ],\n        \"semantic_type\": \"\",\n        \"description\": \"\"\n      }\n    },\n    {\n      \"column\": \"Number vmail messages\",\n      \"properties\": {\n        \"dtype\": \"number\",\n        \"std\": 13,\n        \"min\": 0,\n        \"max\": 51,\n        \"num_unique_values\": 46,\n        \"samples\": [\n          44,\n          48\n        ],\n        \"semantic_type\": \"\",\n        \"description\": \"\"\n      }\n    },\n    {\n      \"column\": \"Total day minutes\",\n      \"properties\": {\n        \"dtype\": \"number\",\n        \"std\": 54.46738920237137,\n        \"min\": 0.0,\n        \"max\": 350.8,\n        \"num_unique_values\": 1667,\n        \"samples\": [\n          87.6,\n          115.7\n        ],\n        \"semantic_type\": \"\",\n        \"description\": \"\"\n      }\n    },\n    {\n      \"column\": \"Total day calls\",\n      \"properties\": {\n        \"dtype\": \"number\",\n        \"std\": 20,\n        \"min\": 0,\n        \"max\": 165,\n        \"num_unique_values\": 119,\n        \"samples\": [\n          125,\n          59\n        ],\n        \"semantic_type\": \"\",\n        \"description\": \"\"\n      }\n    },\n    {\n      \"column\": \"Total day charge\",\n      \"properties\": {\n        \"dtype\": \"number\",\n        \"std\": 9.2594345539305,\n        \"min\": 0.0,\n        \"max\": 59.64,\n        \"num_unique_values\": 1667,\n        \"samples\": [\n          14.89,\n          19.67\n        ],\n        \"semantic_type\": \"\",\n        \"description\": \"\"\n      }\n    },\n    {\n      \"column\": \"Total eve minutes\",\n      \"properties\": {\n        \"dtype\": \"number\",\n        \"std\": 50.713844425812,\n        \"min\": 0.0,\n        \"max\": 363.7,\n        \"num_unique_values\": 1611,\n        \"samples\": [\n          215.1,\n          219.1\n        ],\n        \"semantic_type\": \"\",\n        \"description\": \"\"\n      }\n    },\n    {\n      \"column\": \"Total eve calls\",\n      \"properties\": {\n        \"dtype\": \"number\",\n        \"std\": 19,\n        \"min\": 0,\n        \"max\": 170,\n        \"num_unique_values\": 123,\n        \"samples\": [\n          93,\n          142\n        ],\n        \"semantic_type\": \"\",\n        \"description\": \"\"\n      }\n    },\n    {\n      \"column\": \"Total eve charge\",\n      \"properties\": {\n        \"dtype\": \"number\",\n        \"std\": 4.310667643110341,\n        \"min\": 0.0,\n        \"max\": 30.91,\n        \"num_unique_values\": 1440,\n        \"samples\": [\n          24.85,\n          14.19\n        ],\n        \"semantic_type\": \"\",\n        \"description\": \"\"\n      }\n    },\n    {\n      \"column\": \"Total night minutes\",\n      \"properties\": {\n        \"dtype\": \"number\",\n        \"std\": 50.57384701365836,\n        \"min\": 23.2,\n        \"max\": 395.0,\n        \"num_unique_values\": 1591,\n        \"samples\": [\n          311.1,\n          179.1\n        ],\n        \"semantic_type\": \"\",\n        \"description\": \"\"\n      }\n    },\n    {\n      \"column\": \"Total night calls\",\n      \"properties\": {\n        \"dtype\": \"number\",\n        \"std\": 19,\n        \"min\": 33,\n        \"max\": 175,\n        \"num_unique_values\": 120,\n        \"samples\": [\n          60,\n          73\n        ],\n        \"semantic_type\": \"\",\n        \"description\": \"\"\n      }\n    },\n    {\n      \"column\": \"Total night charge\",\n      \"properties\": {\n        \"dtype\": \"number\",\n        \"std\": 2.275872837660029,\n        \"min\": 1.04,\n        \"max\": 17.77,\n        \"num_unique_values\": 933,\n        \"samples\": [\n          6.2,\n          6.86\n        ],\n        \"semantic_type\": \"\",\n        \"description\": \"\"\n      }\n    },\n    {\n      \"column\": \"Total intl minutes\",\n      \"properties\": {\n        \"dtype\": \"number\",\n        \"std\": 2.791839548408416,\n        \"min\": 0.0,\n        \"max\": 20.0,\n        \"num_unique_values\": 162,\n        \"samples\": [\n          16.6,\n          14.8\n        ],\n        \"semantic_type\": \"\",\n        \"description\": \"\"\n      }\n    },\n    {\n      \"column\": \"Total intl calls\",\n      \"properties\": {\n        \"dtype\": \"number\",\n        \"std\": 2,\n        \"min\": 0,\n        \"max\": 20,\n        \"num_unique_values\": 21,\n        \"samples\": [\n          3,\n          14\n        ],\n        \"semantic_type\": \"\",\n        \"description\": \"\"\n      }\n    },\n    {\n      \"column\": \"Total intl charge\",\n      \"properties\": {\n        \"dtype\": \"number\",\n        \"std\": 0.753772612663046,\n        \"min\": 0.0,\n        \"max\": 5.4,\n        \"num_unique_values\": 162,\n        \"samples\": [\n          4.48,\n          4.0\n        ],\n        \"semantic_type\": \"\",\n        \"description\": \"\"\n      }\n    },\n    {\n      \"column\": \"Customer service calls\",\n      \"properties\": {\n        \"dtype\": \"number\",\n        \"std\": 1,\n        \"min\": 0,\n        \"max\": 9,\n        \"num_unique_values\": 10,\n        \"samples\": [\n          6,\n          0\n        ],\n        \"semantic_type\": \"\",\n        \"description\": \"\"\n      }\n    },\n    {\n      \"column\": \"Churn\",\n      \"properties\": {\n        \"dtype\": \"boolean\",\n        \"num_unique_values\": 2,\n        \"samples\": [\n          true,\n          false\n        ],\n        \"semantic_type\": \"\",\n        \"description\": \"\"\n      }\n    }\n  ]\n}"
            }
          },
          "metadata": {},
          "execution_count": 4
        }
      ],
      "source": [
        "df = pd.read_csv(\"https://raw.githubusercontent.com/evgpat/edu_stepik_practical_ml/main/datasets/telecom_churn.csv\")\n",
        "df.head()"
      ]
    },
    {
      "cell_type": "markdown",
      "source": [
        "## Практика"
      ],
      "metadata": {
        "id": "Od9PZQCENJ4I"
      }
    },
    {
      "cell_type": "code",
      "source": [
        "np.random.seed(RANDOM_STATE)"
      ],
      "metadata": {
        "id": "Jz_uDKBvrM4P"
      },
      "execution_count": 5,
      "outputs": []
    },
    {
      "cell_type": "markdown",
      "source": [
        "Сделайте первичную обработку данных:\n",
        "\n",
        "1) Выбросите колонку State\n",
        "\n",
        "2) Колонки International plan и Voice mail plan закодируйте следующим образом: \"Yes\" замените на 1, а \"No\" на 0.\n",
        "\n",
        "3) Переведите целевую переменную (Churn) в числа: True в 1, а False в 0."
      ],
      "metadata": {
        "id": "MT5L6lWZyDkE"
      }
    },
    {
      "cell_type": "code",
      "source": [
        "# your code here\n",
        "df = df.drop(columns = 'State')"
      ],
      "metadata": {
        "id": "7U6J16EVx0iy"
      },
      "execution_count": 6,
      "outputs": []
    },
    {
      "cell_type": "code",
      "source": [
        "di = {'Yes': 1, 'No': 0}\n",
        "df['International plan'] = df['International plan'].replace(di)\n",
        "df['Voice mail plan'] = df['Voice mail plan'].replace(di)"
      ],
      "metadata": {
        "id": "dvKWhWkJ08xp"
      },
      "execution_count": 7,
      "outputs": []
    },
    {
      "cell_type": "code",
      "source": [
        "# di2 = {'True': 1, 'False': 0}\n",
        "# df['Churn'] = df['Churn'].replace(di2) не работает так как это булева переменная"
      ],
      "metadata": {
        "id": "g4BNvzO61-cH"
      },
      "execution_count": 13,
      "outputs": []
    },
    {
      "cell_type": "code",
      "source": [
        "type(df['Churn'][0].astype(int))"
      ],
      "metadata": {
        "id": "LDz9BvcI2sfp",
        "outputId": "94ae2b3b-002e-481b-9cef-5edc1c4b04ea",
        "colab": {
          "base_uri": "https://localhost:8080/"
        }
      },
      "execution_count": 17,
      "outputs": [
        {
          "output_type": "execute_result",
          "data": {
            "text/plain": [
              "numpy.int64"
            ]
          },
          "metadata": {},
          "execution_count": 17
        }
      ]
    },
    {
      "cell_type": "code",
      "source": [
        "df['Churn'][0].astype(int)"
      ],
      "metadata": {
        "id": "g_510d9g26MK",
        "outputId": "9689a0f5-3278-419c-ce76-23f48a2f8b5a",
        "colab": {
          "base_uri": "https://localhost:8080/"
        }
      },
      "execution_count": 18,
      "outputs": [
        {
          "output_type": "execute_result",
          "data": {
            "text/plain": [
              "0"
            ]
          },
          "metadata": {},
          "execution_count": 18
        }
      ]
    },
    {
      "cell_type": "code",
      "source": [
        "df['Churn'] = df['Churn'].astype(int)"
      ],
      "metadata": {
        "id": "ay1y29C73Aaw"
      },
      "execution_count": 8,
      "outputs": []
    },
    {
      "cell_type": "markdown",
      "source": [
        "### Вопрос\n",
        "\n",
        "Чему равна сумма значений в закодированном столбце International plan?"
      ],
      "metadata": {
        "id": "Oh-R73plYGUB"
      }
    },
    {
      "cell_type": "code",
      "source": [
        "# your code here\n",
        "df['International plan'].sum()"
      ],
      "metadata": {
        "id": "yBFrRvp6YOWk",
        "outputId": "cc905dc1-5340-4528-ddc6-2eaf33d73bd3",
        "colab": {
          "base_uri": "https://localhost:8080/"
        }
      },
      "execution_count": 9,
      "outputs": [
        {
          "output_type": "execute_result",
          "data": {
            "text/plain": [
              "323"
            ]
          },
          "metadata": {},
          "execution_count": 9
        }
      ]
    },
    {
      "cell_type": "markdown",
      "source": [
        "Выведите на экран первые строки измененной таблицы, чтобы проверить, что все преобразования сработали."
      ],
      "metadata": {
        "id": "N2hAu7tmy0Ps"
      }
    },
    {
      "cell_type": "code",
      "source": [
        "# your code here\n",
        "df.head(3)"
      ],
      "metadata": {
        "id": "lG9oOv0uydW8",
        "outputId": "24ab74c2-ae2d-4b21-cda4-a8a3f96298a3",
        "colab": {
          "base_uri": "https://localhost:8080/",
          "height": 178
        }
      },
      "execution_count": 10,
      "outputs": [
        {
          "output_type": "execute_result",
          "data": {
            "text/plain": [
              "   Account length  Area code  International plan  Voice mail plan  \\\n",
              "0             128        415                   0                1   \n",
              "1             107        415                   0                1   \n",
              "2             137        415                   0                0   \n",
              "\n",
              "   Number vmail messages  Total day minutes  Total day calls  \\\n",
              "0                     25              265.1              110   \n",
              "1                     26              161.6              123   \n",
              "2                      0              243.4              114   \n",
              "\n",
              "   Total day charge  Total eve minutes  Total eve calls  Total eve charge  \\\n",
              "0             45.07              197.4               99             16.78   \n",
              "1             27.47              195.5              103             16.62   \n",
              "2             41.38              121.2              110             10.30   \n",
              "\n",
              "   Total night minutes  Total night calls  Total night charge  \\\n",
              "0                244.7                 91               11.01   \n",
              "1                254.4                103               11.45   \n",
              "2                162.6                104                7.32   \n",
              "\n",
              "   Total intl minutes  Total intl calls  Total intl charge  \\\n",
              "0                10.0                 3               2.70   \n",
              "1                13.7                 3               3.70   \n",
              "2                12.2                 5               3.29   \n",
              "\n",
              "   Customer service calls  Churn  \n",
              "0                       1      0  \n",
              "1                       1      0  \n",
              "2                       0      0  "
            ],
            "text/html": [
              "\n",
              "  <div id=\"df-0555619f-b1cb-47b0-a8ca-9df5eb9f896d\" class=\"colab-df-container\">\n",
              "    <div>\n",
              "<style scoped>\n",
              "    .dataframe tbody tr th:only-of-type {\n",
              "        vertical-align: middle;\n",
              "    }\n",
              "\n",
              "    .dataframe tbody tr th {\n",
              "        vertical-align: top;\n",
              "    }\n",
              "\n",
              "    .dataframe thead th {\n",
              "        text-align: right;\n",
              "    }\n",
              "</style>\n",
              "<table border=\"1\" class=\"dataframe\">\n",
              "  <thead>\n",
              "    <tr style=\"text-align: right;\">\n",
              "      <th></th>\n",
              "      <th>Account length</th>\n",
              "      <th>Area code</th>\n",
              "      <th>International plan</th>\n",
              "      <th>Voice mail plan</th>\n",
              "      <th>Number vmail messages</th>\n",
              "      <th>Total day minutes</th>\n",
              "      <th>Total day calls</th>\n",
              "      <th>Total day charge</th>\n",
              "      <th>Total eve minutes</th>\n",
              "      <th>Total eve calls</th>\n",
              "      <th>Total eve charge</th>\n",
              "      <th>Total night minutes</th>\n",
              "      <th>Total night calls</th>\n",
              "      <th>Total night charge</th>\n",
              "      <th>Total intl minutes</th>\n",
              "      <th>Total intl calls</th>\n",
              "      <th>Total intl charge</th>\n",
              "      <th>Customer service calls</th>\n",
              "      <th>Churn</th>\n",
              "    </tr>\n",
              "  </thead>\n",
              "  <tbody>\n",
              "    <tr>\n",
              "      <th>0</th>\n",
              "      <td>128</td>\n",
              "      <td>415</td>\n",
              "      <td>0</td>\n",
              "      <td>1</td>\n",
              "      <td>25</td>\n",
              "      <td>265.1</td>\n",
              "      <td>110</td>\n",
              "      <td>45.07</td>\n",
              "      <td>197.4</td>\n",
              "      <td>99</td>\n",
              "      <td>16.78</td>\n",
              "      <td>244.7</td>\n",
              "      <td>91</td>\n",
              "      <td>11.01</td>\n",
              "      <td>10.0</td>\n",
              "      <td>3</td>\n",
              "      <td>2.70</td>\n",
              "      <td>1</td>\n",
              "      <td>0</td>\n",
              "    </tr>\n",
              "    <tr>\n",
              "      <th>1</th>\n",
              "      <td>107</td>\n",
              "      <td>415</td>\n",
              "      <td>0</td>\n",
              "      <td>1</td>\n",
              "      <td>26</td>\n",
              "      <td>161.6</td>\n",
              "      <td>123</td>\n",
              "      <td>27.47</td>\n",
              "      <td>195.5</td>\n",
              "      <td>103</td>\n",
              "      <td>16.62</td>\n",
              "      <td>254.4</td>\n",
              "      <td>103</td>\n",
              "      <td>11.45</td>\n",
              "      <td>13.7</td>\n",
              "      <td>3</td>\n",
              "      <td>3.70</td>\n",
              "      <td>1</td>\n",
              "      <td>0</td>\n",
              "    </tr>\n",
              "    <tr>\n",
              "      <th>2</th>\n",
              "      <td>137</td>\n",
              "      <td>415</td>\n",
              "      <td>0</td>\n",
              "      <td>0</td>\n",
              "      <td>0</td>\n",
              "      <td>243.4</td>\n",
              "      <td>114</td>\n",
              "      <td>41.38</td>\n",
              "      <td>121.2</td>\n",
              "      <td>110</td>\n",
              "      <td>10.30</td>\n",
              "      <td>162.6</td>\n",
              "      <td>104</td>\n",
              "      <td>7.32</td>\n",
              "      <td>12.2</td>\n",
              "      <td>5</td>\n",
              "      <td>3.29</td>\n",
              "      <td>0</td>\n",
              "      <td>0</td>\n",
              "    </tr>\n",
              "  </tbody>\n",
              "</table>\n",
              "</div>\n",
              "    <div class=\"colab-df-buttons\">\n",
              "\n",
              "  <div class=\"colab-df-container\">\n",
              "    <button class=\"colab-df-convert\" onclick=\"convertToInteractive('df-0555619f-b1cb-47b0-a8ca-9df5eb9f896d')\"\n",
              "            title=\"Convert this dataframe to an interactive table.\"\n",
              "            style=\"display:none;\">\n",
              "\n",
              "  <svg xmlns=\"http://www.w3.org/2000/svg\" height=\"24px\" viewBox=\"0 -960 960 960\">\n",
              "    <path d=\"M120-120v-720h720v720H120Zm60-500h600v-160H180v160Zm220 220h160v-160H400v160Zm0 220h160v-160H400v160ZM180-400h160v-160H180v160Zm440 0h160v-160H620v160ZM180-180h160v-160H180v160Zm440 0h160v-160H620v160Z\"/>\n",
              "  </svg>\n",
              "    </button>\n",
              "\n",
              "  <style>\n",
              "    .colab-df-container {\n",
              "      display:flex;\n",
              "      gap: 12px;\n",
              "    }\n",
              "\n",
              "    .colab-df-convert {\n",
              "      background-color: #E8F0FE;\n",
              "      border: none;\n",
              "      border-radius: 50%;\n",
              "      cursor: pointer;\n",
              "      display: none;\n",
              "      fill: #1967D2;\n",
              "      height: 32px;\n",
              "      padding: 0 0 0 0;\n",
              "      width: 32px;\n",
              "    }\n",
              "\n",
              "    .colab-df-convert:hover {\n",
              "      background-color: #E2EBFA;\n",
              "      box-shadow: 0px 1px 2px rgba(60, 64, 67, 0.3), 0px 1px 3px 1px rgba(60, 64, 67, 0.15);\n",
              "      fill: #174EA6;\n",
              "    }\n",
              "\n",
              "    .colab-df-buttons div {\n",
              "      margin-bottom: 4px;\n",
              "    }\n",
              "\n",
              "    [theme=dark] .colab-df-convert {\n",
              "      background-color: #3B4455;\n",
              "      fill: #D2E3FC;\n",
              "    }\n",
              "\n",
              "    [theme=dark] .colab-df-convert:hover {\n",
              "      background-color: #434B5C;\n",
              "      box-shadow: 0px 1px 3px 1px rgba(0, 0, 0, 0.15);\n",
              "      filter: drop-shadow(0px 1px 2px rgba(0, 0, 0, 0.3));\n",
              "      fill: #FFFFFF;\n",
              "    }\n",
              "  </style>\n",
              "\n",
              "    <script>\n",
              "      const buttonEl =\n",
              "        document.querySelector('#df-0555619f-b1cb-47b0-a8ca-9df5eb9f896d button.colab-df-convert');\n",
              "      buttonEl.style.display =\n",
              "        google.colab.kernel.accessAllowed ? 'block' : 'none';\n",
              "\n",
              "      async function convertToInteractive(key) {\n",
              "        const element = document.querySelector('#df-0555619f-b1cb-47b0-a8ca-9df5eb9f896d');\n",
              "        const dataTable =\n",
              "          await google.colab.kernel.invokeFunction('convertToInteractive',\n",
              "                                                    [key], {});\n",
              "        if (!dataTable) return;\n",
              "\n",
              "        const docLinkHtml = 'Like what you see? Visit the ' +\n",
              "          '<a target=\"_blank\" href=https://colab.research.google.com/notebooks/data_table.ipynb>data table notebook</a>'\n",
              "          + ' to learn more about interactive tables.';\n",
              "        element.innerHTML = '';\n",
              "        dataTable['output_type'] = 'display_data';\n",
              "        await google.colab.output.renderOutput(dataTable, element);\n",
              "        const docLink = document.createElement('div');\n",
              "        docLink.innerHTML = docLinkHtml;\n",
              "        element.appendChild(docLink);\n",
              "      }\n",
              "    </script>\n",
              "  </div>\n",
              "\n",
              "\n",
              "<div id=\"df-8ce918e6-18a4-4a96-9bed-10bdd122689f\">\n",
              "  <button class=\"colab-df-quickchart\" onclick=\"quickchart('df-8ce918e6-18a4-4a96-9bed-10bdd122689f')\"\n",
              "            title=\"Suggest charts\"\n",
              "            style=\"display:none;\">\n",
              "\n",
              "<svg xmlns=\"http://www.w3.org/2000/svg\" height=\"24px\"viewBox=\"0 0 24 24\"\n",
              "     width=\"24px\">\n",
              "    <g>\n",
              "        <path d=\"M19 3H5c-1.1 0-2 .9-2 2v14c0 1.1.9 2 2 2h14c1.1 0 2-.9 2-2V5c0-1.1-.9-2-2-2zM9 17H7v-7h2v7zm4 0h-2V7h2v10zm4 0h-2v-4h2v4z\"/>\n",
              "    </g>\n",
              "</svg>\n",
              "  </button>\n",
              "\n",
              "<style>\n",
              "  .colab-df-quickchart {\n",
              "      --bg-color: #E8F0FE;\n",
              "      --fill-color: #1967D2;\n",
              "      --hover-bg-color: #E2EBFA;\n",
              "      --hover-fill-color: #174EA6;\n",
              "      --disabled-fill-color: #AAA;\n",
              "      --disabled-bg-color: #DDD;\n",
              "  }\n",
              "\n",
              "  [theme=dark] .colab-df-quickchart {\n",
              "      --bg-color: #3B4455;\n",
              "      --fill-color: #D2E3FC;\n",
              "      --hover-bg-color: #434B5C;\n",
              "      --hover-fill-color: #FFFFFF;\n",
              "      --disabled-bg-color: #3B4455;\n",
              "      --disabled-fill-color: #666;\n",
              "  }\n",
              "\n",
              "  .colab-df-quickchart {\n",
              "    background-color: var(--bg-color);\n",
              "    border: none;\n",
              "    border-radius: 50%;\n",
              "    cursor: pointer;\n",
              "    display: none;\n",
              "    fill: var(--fill-color);\n",
              "    height: 32px;\n",
              "    padding: 0;\n",
              "    width: 32px;\n",
              "  }\n",
              "\n",
              "  .colab-df-quickchart:hover {\n",
              "    background-color: var(--hover-bg-color);\n",
              "    box-shadow: 0 1px 2px rgba(60, 64, 67, 0.3), 0 1px 3px 1px rgba(60, 64, 67, 0.15);\n",
              "    fill: var(--button-hover-fill-color);\n",
              "  }\n",
              "\n",
              "  .colab-df-quickchart-complete:disabled,\n",
              "  .colab-df-quickchart-complete:disabled:hover {\n",
              "    background-color: var(--disabled-bg-color);\n",
              "    fill: var(--disabled-fill-color);\n",
              "    box-shadow: none;\n",
              "  }\n",
              "\n",
              "  .colab-df-spinner {\n",
              "    border: 2px solid var(--fill-color);\n",
              "    border-color: transparent;\n",
              "    border-bottom-color: var(--fill-color);\n",
              "    animation:\n",
              "      spin 1s steps(1) infinite;\n",
              "  }\n",
              "\n",
              "  @keyframes spin {\n",
              "    0% {\n",
              "      border-color: transparent;\n",
              "      border-bottom-color: var(--fill-color);\n",
              "      border-left-color: var(--fill-color);\n",
              "    }\n",
              "    20% {\n",
              "      border-color: transparent;\n",
              "      border-left-color: var(--fill-color);\n",
              "      border-top-color: var(--fill-color);\n",
              "    }\n",
              "    30% {\n",
              "      border-color: transparent;\n",
              "      border-left-color: var(--fill-color);\n",
              "      border-top-color: var(--fill-color);\n",
              "      border-right-color: var(--fill-color);\n",
              "    }\n",
              "    40% {\n",
              "      border-color: transparent;\n",
              "      border-right-color: var(--fill-color);\n",
              "      border-top-color: var(--fill-color);\n",
              "    }\n",
              "    60% {\n",
              "      border-color: transparent;\n",
              "      border-right-color: var(--fill-color);\n",
              "    }\n",
              "    80% {\n",
              "      border-color: transparent;\n",
              "      border-right-color: var(--fill-color);\n",
              "      border-bottom-color: var(--fill-color);\n",
              "    }\n",
              "    90% {\n",
              "      border-color: transparent;\n",
              "      border-bottom-color: var(--fill-color);\n",
              "    }\n",
              "  }\n",
              "</style>\n",
              "\n",
              "  <script>\n",
              "    async function quickchart(key) {\n",
              "      const quickchartButtonEl =\n",
              "        document.querySelector('#' + key + ' button');\n",
              "      quickchartButtonEl.disabled = true;  // To prevent multiple clicks.\n",
              "      quickchartButtonEl.classList.add('colab-df-spinner');\n",
              "      try {\n",
              "        const charts = await google.colab.kernel.invokeFunction(\n",
              "            'suggestCharts', [key], {});\n",
              "      } catch (error) {\n",
              "        console.error('Error during call to suggestCharts:', error);\n",
              "      }\n",
              "      quickchartButtonEl.classList.remove('colab-df-spinner');\n",
              "      quickchartButtonEl.classList.add('colab-df-quickchart-complete');\n",
              "    }\n",
              "    (() => {\n",
              "      let quickchartButtonEl =\n",
              "        document.querySelector('#df-8ce918e6-18a4-4a96-9bed-10bdd122689f button');\n",
              "      quickchartButtonEl.style.display =\n",
              "        google.colab.kernel.accessAllowed ? 'block' : 'none';\n",
              "    })();\n",
              "  </script>\n",
              "</div>\n",
              "    </div>\n",
              "  </div>\n"
            ],
            "application/vnd.google.colaboratory.intrinsic+json": {
              "type": "dataframe",
              "variable_name": "df",
              "summary": "{\n  \"name\": \"df\",\n  \"rows\": 3333,\n  \"fields\": [\n    {\n      \"column\": \"Account length\",\n      \"properties\": {\n        \"dtype\": \"number\",\n        \"std\": 39,\n        \"min\": 1,\n        \"max\": 243,\n        \"num_unique_values\": 212,\n        \"samples\": [\n          172,\n          189,\n          44\n        ],\n        \"semantic_type\": \"\",\n        \"description\": \"\"\n      }\n    },\n    {\n      \"column\": \"Area code\",\n      \"properties\": {\n        \"dtype\": \"number\",\n        \"std\": 42,\n        \"min\": 408,\n        \"max\": 510,\n        \"num_unique_values\": 3,\n        \"samples\": [\n          415,\n          408,\n          510\n        ],\n        \"semantic_type\": \"\",\n        \"description\": \"\"\n      }\n    },\n    {\n      \"column\": \"International plan\",\n      \"properties\": {\n        \"dtype\": \"number\",\n        \"std\": 0,\n        \"min\": 0,\n        \"max\": 1,\n        \"num_unique_values\": 2,\n        \"samples\": [\n          1,\n          0\n        ],\n        \"semantic_type\": \"\",\n        \"description\": \"\"\n      }\n    },\n    {\n      \"column\": \"Voice mail plan\",\n      \"properties\": {\n        \"dtype\": \"number\",\n        \"std\": 0,\n        \"min\": 0,\n        \"max\": 1,\n        \"num_unique_values\": 2,\n        \"samples\": [\n          0,\n          1\n        ],\n        \"semantic_type\": \"\",\n        \"description\": \"\"\n      }\n    },\n    {\n      \"column\": \"Number vmail messages\",\n      \"properties\": {\n        \"dtype\": \"number\",\n        \"std\": 13,\n        \"min\": 0,\n        \"max\": 51,\n        \"num_unique_values\": 46,\n        \"samples\": [\n          44,\n          48\n        ],\n        \"semantic_type\": \"\",\n        \"description\": \"\"\n      }\n    },\n    {\n      \"column\": \"Total day minutes\",\n      \"properties\": {\n        \"dtype\": \"number\",\n        \"std\": 54.46738920237137,\n        \"min\": 0.0,\n        \"max\": 350.8,\n        \"num_unique_values\": 1667,\n        \"samples\": [\n          87.6,\n          115.7\n        ],\n        \"semantic_type\": \"\",\n        \"description\": \"\"\n      }\n    },\n    {\n      \"column\": \"Total day calls\",\n      \"properties\": {\n        \"dtype\": \"number\",\n        \"std\": 20,\n        \"min\": 0,\n        \"max\": 165,\n        \"num_unique_values\": 119,\n        \"samples\": [\n          125,\n          59\n        ],\n        \"semantic_type\": \"\",\n        \"description\": \"\"\n      }\n    },\n    {\n      \"column\": \"Total day charge\",\n      \"properties\": {\n        \"dtype\": \"number\",\n        \"std\": 9.2594345539305,\n        \"min\": 0.0,\n        \"max\": 59.64,\n        \"num_unique_values\": 1667,\n        \"samples\": [\n          14.89,\n          19.67\n        ],\n        \"semantic_type\": \"\",\n        \"description\": \"\"\n      }\n    },\n    {\n      \"column\": \"Total eve minutes\",\n      \"properties\": {\n        \"dtype\": \"number\",\n        \"std\": 50.713844425812,\n        \"min\": 0.0,\n        \"max\": 363.7,\n        \"num_unique_values\": 1611,\n        \"samples\": [\n          215.1,\n          219.1\n        ],\n        \"semantic_type\": \"\",\n        \"description\": \"\"\n      }\n    },\n    {\n      \"column\": \"Total eve calls\",\n      \"properties\": {\n        \"dtype\": \"number\",\n        \"std\": 19,\n        \"min\": 0,\n        \"max\": 170,\n        \"num_unique_values\": 123,\n        \"samples\": [\n          93,\n          142\n        ],\n        \"semantic_type\": \"\",\n        \"description\": \"\"\n      }\n    },\n    {\n      \"column\": \"Total eve charge\",\n      \"properties\": {\n        \"dtype\": \"number\",\n        \"std\": 4.310667643110341,\n        \"min\": 0.0,\n        \"max\": 30.91,\n        \"num_unique_values\": 1440,\n        \"samples\": [\n          24.85,\n          14.19\n        ],\n        \"semantic_type\": \"\",\n        \"description\": \"\"\n      }\n    },\n    {\n      \"column\": \"Total night minutes\",\n      \"properties\": {\n        \"dtype\": \"number\",\n        \"std\": 50.57384701365836,\n        \"min\": 23.2,\n        \"max\": 395.0,\n        \"num_unique_values\": 1591,\n        \"samples\": [\n          311.1,\n          179.1\n        ],\n        \"semantic_type\": \"\",\n        \"description\": \"\"\n      }\n    },\n    {\n      \"column\": \"Total night calls\",\n      \"properties\": {\n        \"dtype\": \"number\",\n        \"std\": 19,\n        \"min\": 33,\n        \"max\": 175,\n        \"num_unique_values\": 120,\n        \"samples\": [\n          60,\n          73\n        ],\n        \"semantic_type\": \"\",\n        \"description\": \"\"\n      }\n    },\n    {\n      \"column\": \"Total night charge\",\n      \"properties\": {\n        \"dtype\": \"number\",\n        \"std\": 2.275872837660029,\n        \"min\": 1.04,\n        \"max\": 17.77,\n        \"num_unique_values\": 933,\n        \"samples\": [\n          6.2,\n          6.86\n        ],\n        \"semantic_type\": \"\",\n        \"description\": \"\"\n      }\n    },\n    {\n      \"column\": \"Total intl minutes\",\n      \"properties\": {\n        \"dtype\": \"number\",\n        \"std\": 2.791839548408416,\n        \"min\": 0.0,\n        \"max\": 20.0,\n        \"num_unique_values\": 162,\n        \"samples\": [\n          16.6,\n          14.8\n        ],\n        \"semantic_type\": \"\",\n        \"description\": \"\"\n      }\n    },\n    {\n      \"column\": \"Total intl calls\",\n      \"properties\": {\n        \"dtype\": \"number\",\n        \"std\": 2,\n        \"min\": 0,\n        \"max\": 20,\n        \"num_unique_values\": 21,\n        \"samples\": [\n          3,\n          14\n        ],\n        \"semantic_type\": \"\",\n        \"description\": \"\"\n      }\n    },\n    {\n      \"column\": \"Total intl charge\",\n      \"properties\": {\n        \"dtype\": \"number\",\n        \"std\": 0.753772612663046,\n        \"min\": 0.0,\n        \"max\": 5.4,\n        \"num_unique_values\": 162,\n        \"samples\": [\n          4.48,\n          4.0\n        ],\n        \"semantic_type\": \"\",\n        \"description\": \"\"\n      }\n    },\n    {\n      \"column\": \"Customer service calls\",\n      \"properties\": {\n        \"dtype\": \"number\",\n        \"std\": 1,\n        \"min\": 0,\n        \"max\": 9,\n        \"num_unique_values\": 10,\n        \"samples\": [\n          6,\n          0\n        ],\n        \"semantic_type\": \"\",\n        \"description\": \"\"\n      }\n    },\n    {\n      \"column\": \"Churn\",\n      \"properties\": {\n        \"dtype\": \"number\",\n        \"std\": 0,\n        \"min\": 0,\n        \"max\": 1,\n        \"num_unique_values\": 2,\n        \"samples\": [\n          1,\n          0\n        ],\n        \"semantic_type\": \"\",\n        \"description\": \"\"\n      }\n    }\n  ]\n}"
            }
          },
          "metadata": {},
          "execution_count": 10
        }
      ]
    },
    {
      "cell_type": "markdown",
      "source": [
        "Создайте матрицу объект-признак X и вектор с целевой переменной (Churn) y."
      ],
      "metadata": {
        "id": "6_y9azfEzBYd"
      }
    },
    {
      "cell_type": "code",
      "source": [
        "# your code here\n",
        "X = df.drop(columns = 'Churn')\n",
        "y = df[['Churn']]"
      ],
      "metadata": {
        "id": "Nd0nCW4eypLE"
      },
      "execution_count": 11,
      "outputs": []
    },
    {
      "cell_type": "markdown",
      "source": [
        "### Вопрос\n",
        "\n",
        "Проверьте баланс классов. Является ли выборка сбалансированной?"
      ],
      "metadata": {
        "id": "NEvkoGWw1hFL"
      }
    },
    {
      "cell_type": "code",
      "source": [
        "# your code here\n",
        "y.value_counts()"
      ],
      "metadata": {
        "id": "RpPcEOAm1keZ",
        "outputId": "e5760fea-119b-4500-dfda-2c6ae6425a91",
        "colab": {
          "base_uri": "https://localhost:8080/"
        }
      },
      "execution_count": 12,
      "outputs": [
        {
          "output_type": "execute_result",
          "data": {
            "text/plain": [
              "Churn\n",
              "0        2850\n",
              "1         483\n",
              "dtype: int64"
            ]
          },
          "metadata": {},
          "execution_count": 12
        }
      ]
    },
    {
      "cell_type": "markdown",
      "source": [
        "По кросс-валидации с тремя фолдами и метрикой ROC-AUC (scoring='roc_auc') обучите:\n",
        "\n",
        "1) Логистическую регрессию\n",
        "\n",
        "2) Метод опорных векторов (с kernel='linear')\n",
        "\n",
        "Выведите на экран среднее качество моделей на кросс-валидации.\n",
        "\n",
        "При объявлении SVC не забудьте указать в гиперпараметрах probability = True (так как метод изначально не предсказывает вероятности классов, а они нам нужны для вычисления ROC-AUC)."
      ],
      "metadata": {
        "id": "253CDINX1TmR"
      }
    },
    {
      "cell_type": "code",
      "source": [
        "from sklearn.linear_model import LogisticRegression\n",
        "from sklearn.svm import SVC\n",
        "from sklearn.model_selection import cross_val_score\n",
        "\n",
        "# your code here\n",
        "lr = LogisticRegression()\n",
        "svc = SVC(probability = True)\n",
        "\n",
        "print(cross_val_score(lr, X, y, cv=3, scoring='roc_auc').mean())\n",
        "print(cross_val_score(svc, X, y, cv=3, scoring='roc_auc').mean())"
      ],
      "metadata": {
        "id": "GsQW48lf1SxJ",
        "outputId": "004c9f7a-230d-4518-fbe1-36daa7341cdc",
        "colab": {
          "base_uri": "https://localhost:8080/"
        }
      },
      "execution_count": 13,
      "outputs": [
        {
          "output_type": "stream",
          "name": "stderr",
          "text": [
            "/usr/local/lib/python3.10/dist-packages/sklearn/utils/validation.py:1143: DataConversionWarning: A column-vector y was passed when a 1d array was expected. Please change the shape of y to (n_samples, ), for example using ravel().\n",
            "  y = column_or_1d(y, warn=True)\n",
            "/usr/local/lib/python3.10/dist-packages/daal4py/sklearn/linear_model/logistic_path.py:629: ConvergenceWarning: lbfgs failed to converge (status=1):\n",
            "STOP: TOTAL NO. of ITERATIONS REACHED LIMIT.\n",
            "\n",
            "Increase the number of iterations (max_iter) or scale the data as shown in:\n",
            "    https://scikit-learn.org/stable/modules/preprocessing.html\n",
            "Please also refer to the documentation for alternative solver options:\n",
            "    https://scikit-learn.org/stable/modules/linear_model.html#logistic-regression\n",
            "  n_iter_i = _check_optimize_result(\n",
            "/usr/local/lib/python3.10/dist-packages/sklearn/utils/validation.py:1143: DataConversionWarning: A column-vector y was passed when a 1d array was expected. Please change the shape of y to (n_samples, ), for example using ravel().\n",
            "  y = column_or_1d(y, warn=True)\n",
            "/usr/local/lib/python3.10/dist-packages/daal4py/sklearn/linear_model/logistic_path.py:629: ConvergenceWarning: lbfgs failed to converge (status=1):\n",
            "STOP: TOTAL NO. of ITERATIONS REACHED LIMIT.\n",
            "\n",
            "Increase the number of iterations (max_iter) or scale the data as shown in:\n",
            "    https://scikit-learn.org/stable/modules/preprocessing.html\n",
            "Please also refer to the documentation for alternative solver options:\n",
            "    https://scikit-learn.org/stable/modules/linear_model.html#logistic-regression\n",
            "  n_iter_i = _check_optimize_result(\n",
            "/usr/local/lib/python3.10/dist-packages/sklearn/utils/validation.py:1143: DataConversionWarning: A column-vector y was passed when a 1d array was expected. Please change the shape of y to (n_samples, ), for example using ravel().\n",
            "  y = column_or_1d(y, warn=True)\n",
            "/usr/local/lib/python3.10/dist-packages/daal4py/sklearn/linear_model/logistic_path.py:629: ConvergenceWarning: lbfgs failed to converge (status=1):\n",
            "STOP: TOTAL NO. of ITERATIONS REACHED LIMIT.\n",
            "\n",
            "Increase the number of iterations (max_iter) or scale the data as shown in:\n",
            "    https://scikit-learn.org/stable/modules/preprocessing.html\n",
            "Please also refer to the documentation for alternative solver options:\n",
            "    https://scikit-learn.org/stable/modules/linear_model.html#logistic-regression\n",
            "  n_iter_i = _check_optimize_result(\n",
            "/usr/local/lib/python3.10/dist-packages/onedal/utils/validation.py:188: DataConversionWarning: A column-vector y was passed when a 1d array was expected. Please change the shape of y to (n_samples, ), for example using ravel().\n",
            "  y = _column_or_1d(y, warn=True)\n"
          ]
        },
        {
          "output_type": "stream",
          "name": "stdout",
          "text": [
            "0.733483709273183\n"
          ]
        },
        {
          "output_type": "stream",
          "name": "stderr",
          "text": [
            "/usr/local/lib/python3.10/dist-packages/sklearn/preprocessing/_label.py:99: DataConversionWarning: A column-vector y was passed when a 1d array was expected. Please change the shape of y to (n_samples, ), for example using ravel().\n",
            "  y = column_or_1d(y, warn=True)\n",
            "/usr/local/lib/python3.10/dist-packages/onedal/utils/validation.py:188: DataConversionWarning: A column-vector y was passed when a 1d array was expected. Please change the shape of y to (n_samples, ), for example using ravel().\n",
            "  y = _column_or_1d(y, warn=True)\n",
            "/usr/local/lib/python3.10/dist-packages/onedal/utils/validation.py:188: DataConversionWarning: A column-vector y was passed when a 1d array was expected. Please change the shape of y to (n_samples, ), for example using ravel().\n",
            "  y = _column_or_1d(y, warn=True)\n",
            "/usr/local/lib/python3.10/dist-packages/sklearn/preprocessing/_label.py:99: DataConversionWarning: A column-vector y was passed when a 1d array was expected. Please change the shape of y to (n_samples, ), for example using ravel().\n",
            "  y = column_or_1d(y, warn=True)\n",
            "/usr/local/lib/python3.10/dist-packages/onedal/utils/validation.py:188: DataConversionWarning: A column-vector y was passed when a 1d array was expected. Please change the shape of y to (n_samples, ), for example using ravel().\n",
            "  y = _column_or_1d(y, warn=True)\n",
            "/usr/local/lib/python3.10/dist-packages/onedal/utils/validation.py:188: DataConversionWarning: A column-vector y was passed when a 1d array was expected. Please change the shape of y to (n_samples, ), for example using ravel().\n",
            "  y = _column_or_1d(y, warn=True)\n",
            "/usr/local/lib/python3.10/dist-packages/sklearn/preprocessing/_label.py:99: DataConversionWarning: A column-vector y was passed when a 1d array was expected. Please change the shape of y to (n_samples, ), for example using ravel().\n",
            "  y = column_or_1d(y, warn=True)\n",
            "/usr/local/lib/python3.10/dist-packages/onedal/utils/validation.py:188: DataConversionWarning: A column-vector y was passed when a 1d array was expected. Please change the shape of y to (n_samples, ), for example using ravel().\n",
            "  y = _column_or_1d(y, warn=True)\n"
          ]
        },
        {
          "output_type": "stream",
          "name": "stdout",
          "text": [
            "0.7413991500490357\n"
          ]
        }
      ]
    },
    {
      "cell_type": "markdown",
      "source": [
        "Теперь обучите решающее дерево с параметрами по умолчанию по кросс-валидации с тремя фолдами и той же метрикой.\n",
        "\n",
        "ВАЖНО! У решающего дерева для воспроизводимости результатов фиксируйте random_state = RANDOM_STATE"
      ],
      "metadata": {
        "id": "mVgXsdO02iVG"
      }
    },
    {
      "cell_type": "code",
      "source": [
        "from sklearn.tree import DecisionTreeClassifier\n",
        "\n",
        "# your code here\n",
        "model = DecisionTreeClassifier(random_state = RANDOM_STATE)\n",
        "\n",
        "cross_val_score(model, X, y, cv=3,  scoring='roc_auc').mean()"
      ],
      "metadata": {
        "id": "yc822SQa2Zsc",
        "outputId": "182b0e38-ea4c-447c-8dd7-60d1d9a84268",
        "colab": {
          "base_uri": "https://localhost:8080/"
        }
      },
      "execution_count": 14,
      "outputs": [
        {
          "output_type": "execute_result",
          "data": {
            "text/plain": [
              "0.8361261850277869"
            ]
          },
          "metadata": {},
          "execution_count": 14
        }
      ]
    },
    {
      "cell_type": "markdown",
      "source": [
        "### Вопрос\n",
        "\n",
        "Какой из трех алгоритмов показал наилучшее качество на кросс-валидации?"
      ],
      "metadata": {
        "id": "3cZipDFTYXs-"
      }
    },
    {
      "cell_type": "markdown",
      "source": [
        "Ваша цель - максимально улучшить модели. Для этого:\n",
        "\n",
        "1) у линейных моделей подберите гиперпараметр С (переберите 20 значений C в диапазоне от 0.1 до 10 с равным шагом).\n",
        "\n",
        "2) у решающего дерева подберите max_depth (переберите глубину от 1 до 10 с шагом 1) и criterion - \"gini\" или \"entropy\".\n",
        "\n",
        "Для подбора параметров используйте GridSearchCV с тремя фолдами и метрикой roc-auc или обычные циклы.\n",
        "\n",
        "Подбор параметров осуществляется только по тренировочным данным!"
      ],
      "metadata": {
        "id": "Bof-nFO-3pp7"
      }
    },
    {
      "cell_type": "markdown",
      "source": [
        "При подборе гиперпараметров по кросс-валидации для дальнейшей корректной оценки качества модели нужна отдельная выборка. Давайте сразу действовать правильно:\n",
        "\n",
        "1) сначала разбиваем (как и раньше) данные на тренировочную и тестовую части\n",
        "![image.png](data:image/png;base64,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)"
      ],
      "metadata": {
        "id": "XQTz9L4IQJe0"
      }
    },
    {
      "cell_type": "markdown",
      "source": [
        "2) затем по тренировочной части при помощи GridSearchCV подбираем оптимальные значения гиперпараметров\n",
        "\n",
        "3) наконец, делаем предсказание модели с оптимальными гиперпараметрами на тестовых данных и уже по ним оцениваем итоговую метрику.\n",
        "\n",
        "Сложно, зато правильно!"
      ],
      "metadata": {
        "id": "YkKgj_xdQcm9"
      }
    },
    {
      "cell_type": "markdown",
      "source": [
        "Первую модель обучим для примера. Дальше вы сами."
      ],
      "metadata": {
        "id": "fOpaM-hq44uW"
      }
    },
    {
      "cell_type": "code",
      "source": [
        "from sklearn.model_selection import train_test_split\n",
        "\n",
        "Xtrain, Xtest, ytrain, ytest = train_test_split(X, y, test_size=0.3, random_state=RANDOM_STATE)"
      ],
      "metadata": {
        "id": "iQaQGXpmQ1dI"
      },
      "execution_count": 15,
      "outputs": []
    },
    {
      "cell_type": "code",
      "source": [
        "from sklearn.model_selection import GridSearchCV\n",
        "\n",
        "params = {'C' : np.linspace(0.1, 10.01, 20)}\n",
        "\n",
        "gs = GridSearchCV(LogisticRegression(), params, cv=3, scoring='roc_auc')\n",
        "\n",
        "gs.fit(Xtrain, ytrain)\n",
        "\n",
        "gs.best_score_, gs.best_estimator_"
      ],
      "metadata": {
        "id": "hk9rxc993bRu"
      },
      "execution_count": null,
      "outputs": []
    },
    {
      "cell_type": "code",
      "source": [
        "from sklearn.metrics import roc_auc_score\n",
        "\n",
        "lr = gs.best_estimator_\n",
        "\n",
        "pred_lr = lr.predict_proba(Xtest)[:,1]\n",
        "print(roc_auc_score(ytest, pred_lr))"
      ],
      "metadata": {
        "id": "gdpy_r1k4qNs",
        "outputId": "be757fef-290a-4281-81d7-5a0d502eb0dc",
        "colab": {
          "base_uri": "https://localhost:8080/"
        }
      },
      "execution_count": 17,
      "outputs": [
        {
          "output_type": "stream",
          "name": "stdout",
          "text": [
            "0.7784106208843665\n"
          ]
        }
      ]
    },
    {
      "cell_type": "code",
      "source": [
        "# your code here\n",
        "params = {'criterion': ('gini', 'entropy'), 'max_depth' : range(1,10,1)}\n",
        "\n",
        "gs_tree = GridSearchCV(DecisionTreeClassifier(random_state = RANDOM_STATE), params, cv=3, scoring='roc_auc')\n",
        "\n",
        "gs_tree.fit(Xtrain, ytrain)\n",
        "\n",
        "gs_tree.best_score_, gs_tree.best_estimator_"
      ],
      "metadata": {
        "id": "EzZ8K1eI5FLU",
        "outputId": "51cb2a00-3eec-4a47-fd88-12d34d9f5d65",
        "colab": {
          "base_uri": "https://localhost:8080/"
        }
      },
      "execution_count": 25,
      "outputs": [
        {
          "output_type": "execute_result",
          "data": {
            "text/plain": [
              "(0.8644263148363854, DecisionTreeClassifier(max_depth=6, random_state=42))"
            ]
          },
          "metadata": {},
          "execution_count": 25
        }
      ]
    },
    {
      "cell_type": "code",
      "source": [
        "tree = gs_tree.best_estimator_\n",
        "pred_tree = tree.predict_proba(Xtest)[:,1]\n",
        "print(roc_auc_score(ytest, pred_tree))"
      ],
      "metadata": {
        "id": "4_UQYf926NUT",
        "outputId": "6a0b70d9-aa3f-408f-b2c5-3da71c62b197",
        "colab": {
          "base_uri": "https://localhost:8080/"
        }
      },
      "execution_count": 26,
      "outputs": [
        {
          "output_type": "stream",
          "name": "stdout",
          "text": [
            "0.8555540142471297\n"
          ]
        }
      ]
    },
    {
      "cell_type": "code",
      "source": [
        "params = {'C' : np.linspace(0.1, 10.01, 20)}\n",
        "\n",
        "gs_svc = GridSearchCV(SVC(probability = True), params, cv=3, scoring='roc_auc')\n",
        "\n",
        "gs_svc.fit(Xtrain, ytrain)\n",
        "\n",
        "gs_svc.best_score_, gs_svc.best_estimator_"
      ],
      "metadata": {
        "id": "5U0XZCPt6Ztc"
      },
      "execution_count": null,
      "outputs": []
    },
    {
      "cell_type": "code",
      "source": [
        "svc = gs_svc.best_estimator_\n",
        "pred_svc = svc.predict_proba(Xtest)[:,1]\n",
        "print(roc_auc_score(ytest, pred_svc))"
      ],
      "metadata": {
        "id": "vkRFYnSV6pkv"
      },
      "execution_count": null,
      "outputs": []
    },
    {
      "cell_type": "markdown",
      "source": [
        "### Вопрос\n",
        "\n",
        "Чему равно качество решающего дерева с подобранными гиперпараметрами, посчитанное на тестовой выборке?\n",
        "\n",
        "Ответ округлите до сотых."
      ],
      "metadata": {
        "id": "YkX2K2-9Z2Xf"
      }
    },
    {
      "cell_type": "markdown",
      "source": [
        "Какая модель справилась с решением задачи лучше всего по метрике roc_auc?"
      ],
      "metadata": {
        "id": "LJdQGP5B6UuT"
      }
    },
    {
      "cell_type": "markdown",
      "source": [
        "Нарисуйте roc-кривую для наилучшей модели."
      ],
      "metadata": {
        "id": "9QqqeHyP6Y4o"
      }
    },
    {
      "cell_type": "code",
      "source": [
        "from sklearn.metrics import roc_curve\n",
        "from matplotlib import pyplot as plt\n",
        "\n",
        "# your code here\n",
        "import numpy as np\n",
        "import matplotlib.pyplot as plt\n",
        "from sklearn.metrics import roc_curve, auc\n",
        "from sklearn.datasets import make_classification\n",
        "from sklearn.model_selection import train_test_split\n",
        "from sklearn.linear_model import LogisticRegression\n",
        "\n",
        "# Рассчитываем ROC кривую и площадь под кривой\n",
        "fpr, tpr, _ = roc_curve(ytest, pred_tree)\n",
        "roc_auc = auc(fpr, tpr)\n",
        "\n",
        "# Строим ROC кривую\n",
        "plt.figure()\n",
        "plt.plot(fpr, tpr, color='darkorange', lw=2, label='ROC curve (area = %0.2f)' % roc_auc)\n",
        "plt.plot([0, 1], [0, 1], color='navy', lw=2, linestyle='--')\n",
        "plt.xlim([0.0, 1.0])\n",
        "plt.ylim([0.0, 1.05])\n",
        "plt.xlabel('False Positive Rate')\n",
        "plt.ylabel('True Positive Rate')\n",
        "plt.title('Receiver Operating Characteristic')\n",
        "plt.legend(loc=\"lower right\")\n",
        "plt.show()"
      ],
      "metadata": {
        "id": "xzrjnbQB6YMA",
        "outputId": "00a35e1f-8080-4efe-b47a-23359ad96960",
        "colab": {
          "base_uri": "https://localhost:8080/",
          "height": 472
        }
      },
      "execution_count": 31,
      "outputs": [
        {
          "output_type": "display_data",
          "data": {
            "text/plain": [
              "<Figure size 640x480 with 1 Axes>"
            ],
            "image/png": "[encoded data removed]"
          },
          "metadata": {}
        }
      ]
    },
    {
      "cell_type": "markdown",
      "source": [
        "Сравните между собой две лучшие модели."
      ],
      "metadata": {
        "id": "2mkfXjsENXB0"
      }
    },
    {
      "cell_type": "markdown",
      "source": [
        "### Вопрос\n",
        "\n",
        "Насколько сильно отличается качество предсказания на тестовых данных?\n",
        "(вычислите разность значений roc-auc)"
      ],
      "metadata": {
        "id": "mKaWSPa_6vvk"
      }
    },
    {
      "cell_type": "code",
      "source": [
        "# your code here\n"
      ],
      "metadata": {
        "id": "cc0q1_XL7QT0"
      },
      "execution_count": null,
      "outputs": []
    },
    {
      "cell_type": "markdown",
      "source": [
        "Постройте гистограммы важности признаков (для линейных моделей берите модуль значений весов) для каждой из этих моделей. Сравните между собой списки из трех самых важных признаков. Совпадают ли они?"
      ],
      "metadata": {
        "id": "leygLIY2aHJK"
      }
    },
    {
      "cell_type": "markdown",
      "source": [
        "### Вопрос\n",
        "\n",
        "Какой признак наиболее важен для решающего дерева?"
      ],
      "metadata": {
        "id": "JAzIr89MaODq"
      }
    },
    {
      "cell_type": "code",
      "source": [
        "list(importances)"
      ],
      "metadata": {
        "id": "C2wzsyTwFXcZ",
        "outputId": "4bfe5a95-1fa3-4925-889d-5a583196ce7e",
        "colab": {
          "base_uri": "https://localhost:8080/"
        }
      },
      "execution_count": 39,
      "outputs": [
        {
          "output_type": "execute_result",
          "data": {
            "text/plain": [
              "[0.00451407001804213,\n",
              " 0.0,\n",
              " 0.10745636529052893,\n",
              " 0.0,\n",
              " 0.07205105805340004,\n",
              " 0.023416543808147547,\n",
              " 0.0088631012038437,\n",
              " 0.25588212045963554,\n",
              " 0.07539718583286846,\n",
              " 0.003611256014433703,\n",
              " 0.06974143415236277,\n",
              " 0.006319698025258978,\n",
              " 0.00928925694823901,\n",
              " 0.017825322702796926,\n",
              " 0.0,\n",
              " 0.11912546314764605,\n",
              " 0.07777674009629963,\n",
              " 0.14873038424649646]"
            ]
          },
          "metadata": {},
          "execution_count": 39
        }
      ]
    },
    {
      "cell_type": "code",
      "source": [
        "df1 = pd.DataFrame(importances, index = X.columns, columns = ['Imp'])\n",
        "df1 = df1.reset_index()\n",
        "df1"
      ],
      "metadata": {
        "id": "0aTaCG1-FYzh",
        "outputId": "46fdcf71-8b19-4861-aa9e-903fd863b92d",
        "colab": {
          "base_uri": "https://localhost:8080/",
          "height": 613
        }
      },
      "execution_count": 45,
      "outputs": [
        {
          "output_type": "execute_result",
          "data": {
            "text/plain": [
              "                     index       Imp\n",
              "0           Account length  0.004514\n",
              "1                Area code  0.000000\n",
              "2       International plan  0.107456\n",
              "3          Voice mail plan  0.000000\n",
              "4    Number vmail messages  0.072051\n",
              "5        Total day minutes  0.023417\n",
              "6          Total day calls  0.008863\n",
              "7         Total day charge  0.255882\n",
              "8        Total eve minutes  0.075397\n",
              "9          Total eve calls  0.003611\n",
              "10        Total eve charge  0.069741\n",
              "11     Total night minutes  0.006320\n",
              "12       Total night calls  0.009289\n",
              "13      Total night charge  0.017825\n",
              "14      Total intl minutes  0.000000\n",
              "15        Total intl calls  0.119125\n",
              "16       Total intl charge  0.077777\n",
              "17  Customer service calls  0.148730"
            ],
            "text/html": [
              "\n",
              "  <div id=\"df-974e4c5e-b76c-4f05-b729-b56100c62634\" class=\"colab-df-container\">\n",
              "    <div>\n",
              "<style scoped>\n",
              "    .dataframe tbody tr th:only-of-type {\n",
              "        vertical-align: middle;\n",
              "    }\n",
              "\n",
              "    .dataframe tbody tr th {\n",
              "        vertical-align: top;\n",
              "    }\n",
              "\n",
              "    .dataframe thead th {\n",
              "        text-align: right;\n",
              "    }\n",
              "</style>\n",
              "<table border=\"1\" class=\"dataframe\">\n",
              "  <thead>\n",
              "    <tr style=\"text-align: right;\">\n",
              "      <th></th>\n",
              "      <th>index</th>\n",
              "      <th>Imp</th>\n",
              "    </tr>\n",
              "  </thead>\n",
              "  <tbody>\n",
              "    <tr>\n",
              "      <th>0</th>\n",
              "      <td>Account length</td>\n",
              "      <td>0.004514</td>\n",
              "    </tr>\n",
              "    <tr>\n",
              "      <th>1</th>\n",
              "      <td>Area code</td>\n",
              "      <td>0.000000</td>\n",
              "    </tr>\n",
              "    <tr>\n",
              "      <th>2</th>\n",
              "      <td>International plan</td>\n",
              "      <td>0.107456</td>\n",
              "    </tr>\n",
              "    <tr>\n",
              "      <th>3</th>\n",
              "      <td>Voice mail plan</td>\n",
              "      <td>0.000000</td>\n",
              "    </tr>\n",
              "    <tr>\n",
              "      <th>4</th>\n",
              "      <td>Number vmail messages</td>\n",
              "      <td>0.072051</td>\n",
              "    </tr>\n",
              "    <tr>\n",
              "      <th>5</th>\n",
              "      <td>Total day minutes</td>\n",
              "      <td>0.023417</td>\n",
              "    </tr>\n",
              "    <tr>\n",
              "      <th>6</th>\n",
              "      <td>Total day calls</td>\n",
              "      <td>0.008863</td>\n",
              "    </tr>\n",
              "    <tr>\n",
              "      <th>7</th>\n",
              "      <td>Total day charge</td>\n",
              "      <td>0.255882</td>\n",
              "    </tr>\n",
              "    <tr>\n",
              "      <th>8</th>\n",
              "      <td>Total eve minutes</td>\n",
              "      <td>0.075397</td>\n",
              "    </tr>\n",
              "    <tr>\n",
              "      <th>9</th>\n",
              "      <td>Total eve calls</td>\n",
              "      <td>0.003611</td>\n",
              "    </tr>\n",
              "    <tr>\n",
              "      <th>10</th>\n",
              "      <td>Total eve charge</td>\n",
              "      <td>0.069741</td>\n",
              "    </tr>\n",
              "    <tr>\n",
              "      <th>11</th>\n",
              "      <td>Total night minutes</td>\n",
              "      <td>0.006320</td>\n",
              "    </tr>\n",
              "    <tr>\n",
              "      <th>12</th>\n",
              "      <td>Total night calls</td>\n",
              "      <td>0.009289</td>\n",
              "    </tr>\n",
              "    <tr>\n",
              "      <th>13</th>\n",
              "      <td>Total night charge</td>\n",
              "      <td>0.017825</td>\n",
              "    </tr>\n",
              "    <tr>\n",
              "      <th>14</th>\n",
              "      <td>Total intl minutes</td>\n",
              "      <td>0.000000</td>\n",
              "    </tr>\n",
              "    <tr>\n",
              "      <th>15</th>\n",
              "      <td>Total intl calls</td>\n",
              "      <td>0.119125</td>\n",
              "    </tr>\n",
              "    <tr>\n",
              "      <th>16</th>\n",
              "      <td>Total intl charge</td>\n",
              "      <td>0.077777</td>\n",
              "    </tr>\n",
              "    <tr>\n",
              "      <th>17</th>\n",
              "      <td>Customer service calls</td>\n",
              "      <td>0.148730</td>\n",
              "    </tr>\n",
              "  </tbody>\n",
              "</table>\n",
              "</div>\n",
              "    <div class=\"colab-df-buttons\">\n",
              "\n",
              "  <div class=\"colab-df-container\">\n",
              "    <button class=\"colab-df-convert\" onclick=\"convertToInteractive('df-974e4c5e-b76c-4f05-b729-b56100c62634')\"\n",
              "            title=\"Convert this dataframe to an interactive table.\"\n",
              "            style=\"display:none;\">\n",
              "\n",
              "  <svg xmlns=\"http://www.w3.org/2000/svg\" height=\"24px\" viewBox=\"0 -960 960 960\">\n",
              "    <path d=\"M120-120v-720h720v720H120Zm60-500h600v-160H180v160Zm220 220h160v-160H400v160Zm0 220h160v-160H400v160ZM180-400h160v-160H180v160Zm440 0h160v-160H620v160ZM180-180h160v-160H180v160Zm440 0h160v-160H620v160Z\"/>\n",
              "  </svg>\n",
              "    </button>\n",
              "\n",
              "  <style>\n",
              "    .colab-df-container {\n",
              "      display:flex;\n",
              "      gap: 12px;\n",
              "    }\n",
              "\n",
              "    .colab-df-convert {\n",
              "      background-color: #E8F0FE;\n",
              "      border: none;\n",
              "      border-radius: 50%;\n",
              "      cursor: pointer;\n",
              "      display: none;\n",
              "      fill: #1967D2;\n",
              "      height: 32px;\n",
              "      padding: 0 0 0 0;\n",
              "      width: 32px;\n",
              "    }\n",
              "\n",
              "    .colab-df-convert:hover {\n",
              "      background-color: #E2EBFA;\n",
              "      box-shadow: 0px 1px 2px rgba(60, 64, 67, 0.3), 0px 1px 3px 1px rgba(60, 64, 67, 0.15);\n",
              "      fill: #174EA6;\n",
              "    }\n",
              "\n",
              "    .colab-df-buttons div {\n",
              "      margin-bottom: 4px;\n",
              "    }\n",
              "\n",
              "    [theme=dark] .colab-df-convert {\n",
              "      background-color: #3B4455;\n",
              "      fill: #D2E3FC;\n",
              "    }\n",
              "\n",
              "    [theme=dark] .colab-df-convert:hover {\n",
              "      background-color: #434B5C;\n",
              "      box-shadow: 0px 1px 3px 1px rgba(0, 0, 0, 0.15);\n",
              "      filter: drop-shadow(0px 1px 2px rgba(0, 0, 0, 0.3));\n",
              "      fill: #FFFFFF;\n",
              "    }\n",
              "  </style>\n",
              "\n",
              "    <script>\n",
              "      const buttonEl =\n",
              "        document.querySelector('#df-974e4c5e-b76c-4f05-b729-b56100c62634 button.colab-df-convert');\n",
              "      buttonEl.style.display =\n",
              "        google.colab.kernel.accessAllowed ? 'block' : 'none';\n",
              "\n",
              "      async function convertToInteractive(key) {\n",
              "        const element = document.querySelector('#df-974e4c5e-b76c-4f05-b729-b56100c62634');\n",
              "        const dataTable =\n",
              "          await google.colab.kernel.invokeFunction('convertToInteractive',\n",
              "                                                    [key], {});\n",
              "        if (!dataTable) return;\n",
              "\n",
              "        const docLinkHtml = 'Like what you see? Visit the ' +\n",
              "          '<a target=\"_blank\" href=https://colab.research.google.com/notebooks/data_table.ipynb>data table notebook</a>'\n",
              "          + ' to learn more about interactive tables.';\n",
              "        element.innerHTML = '';\n",
              "        dataTable['output_type'] = 'display_data';\n",
              "        await google.colab.output.renderOutput(dataTable, element);\n",
              "        const docLink = document.createElement('div');\n",
              "        docLink.innerHTML = docLinkHtml;\n",
              "        element.appendChild(docLink);\n",
              "      }\n",
              "    </script>\n",
              "  </div>\n",
              "\n",
              "\n",
              "<div id=\"df-7291cb03-30b1-45e0-8206-9b4f592eb380\">\n",
              "  <button class=\"colab-df-quickchart\" onclick=\"quickchart('df-7291cb03-30b1-45e0-8206-9b4f592eb380')\"\n",
              "            title=\"Suggest charts\"\n",
              "            style=\"display:none;\">\n",
              "\n",
              "<svg xmlns=\"http://www.w3.org/2000/svg\" height=\"24px\"viewBox=\"0 0 24 24\"\n",
              "     width=\"24px\">\n",
              "    <g>\n",
              "        <path d=\"M19 3H5c-1.1 0-2 .9-2 2v14c0 1.1.9 2 2 2h14c1.1 0 2-.9 2-2V5c0-1.1-.9-2-2-2zM9 17H7v-7h2v7zm4 0h-2V7h2v10zm4 0h-2v-4h2v4z\"/>\n",
              "    </g>\n",
              "</svg>\n",
              "  </button>\n",
              "\n",
              "<style>\n",
              "  .colab-df-quickchart {\n",
              "      --bg-color: #E8F0FE;\n",
              "      --fill-color: #1967D2;\n",
              "      --hover-bg-color: #E2EBFA;\n",
              "      --hover-fill-color: #174EA6;\n",
              "      --disabled-fill-color: #AAA;\n",
              "      --disabled-bg-color: #DDD;\n",
              "  }\n",
              "\n",
              "  [theme=dark] .colab-df-quickchart {\n",
              "      --bg-color: #3B4455;\n",
              "      --fill-color: #D2E3FC;\n",
              "      --hover-bg-color: #434B5C;\n",
              "      --hover-fill-color: #FFFFFF;\n",
              "      --disabled-bg-color: #3B4455;\n",
              "      --disabled-fill-color: #666;\n",
              "  }\n",
              "\n",
              "  .colab-df-quickchart {\n",
              "    background-color: var(--bg-color);\n",
              "    border: none;\n",
              "    border-radius: 50%;\n",
              "    cursor: pointer;\n",
              "    display: none;\n",
              "    fill: var(--fill-color);\n",
              "    height: 32px;\n",
              "    padding: 0;\n",
              "    width: 32px;\n",
              "  }\n",
              "\n",
              "  .colab-df-quickchart:hover {\n",
              "    background-color: var(--hover-bg-color);\n",
              "    box-shadow: 0 1px 2px rgba(60, 64, 67, 0.3), 0 1px 3px 1px rgba(60, 64, 67, 0.15);\n",
              "    fill: var(--button-hover-fill-color);\n",
              "  }\n",
              "\n",
              "  .colab-df-quickchart-complete:disabled,\n",
              "  .colab-df-quickchart-complete:disabled:hover {\n",
              "    background-color: var(--disabled-bg-color);\n",
              "    fill: var(--disabled-fill-color);\n",
              "    box-shadow: none;\n",
              "  }\n",
              "\n",
              "  .colab-df-spinner {\n",
              "    border: 2px solid var(--fill-color);\n",
              "    border-color: transparent;\n",
              "    border-bottom-color: var(--fill-color);\n",
              "    animation:\n",
              "      spin 1s steps(1) infinite;\n",
              "  }\n",
              "\n",
              "  @keyframes spin {\n",
              "    0% {\n",
              "      border-color: transparent;\n",
              "      border-bottom-color: var(--fill-color);\n",
              "      border-left-color: var(--fill-color);\n",
              "    }\n",
              "    20% {\n",
              "      border-color: transparent;\n",
              "      border-left-color: var(--fill-color);\n",
              "      border-top-color: var(--fill-color);\n",
              "    }\n",
              "    30% {\n",
              "      border-color: transparent;\n",
              "      border-left-color: var(--fill-color);\n",
              "      border-top-color: var(--fill-color);\n",
              "      border-right-color: var(--fill-color);\n",
              "    }\n",
              "    40% {\n",
              "      border-color: transparent;\n",
              "      border-right-color: var(--fill-color);\n",
              "      border-top-color: var(--fill-color);\n",
              "    }\n",
              "    60% {\n",
              "      border-color: transparent;\n",
              "      border-right-color: var(--fill-color);\n",
              "    }\n",
              "    80% {\n",
              "      border-color: transparent;\n",
              "      border-right-color: var(--fill-color);\n",
              "      border-bottom-color: var(--fill-color);\n",
              "    }\n",
              "    90% {\n",
              "      border-color: transparent;\n",
              "      border-bottom-color: var(--fill-color);\n",
              "    }\n",
              "  }\n",
              "</style>\n",
              "\n",
              "  <script>\n",
              "    async function quickchart(key) {\n",
              "      const quickchartButtonEl =\n",
              "        document.querySelector('#' + key + ' button');\n",
              "      quickchartButtonEl.disabled = true;  // To prevent multiple clicks.\n",
              "      quickchartButtonEl.classList.add('colab-df-spinner');\n",
              "      try {\n",
              "        const charts = await google.colab.kernel.invokeFunction(\n",
              "            'suggestCharts', [key], {});\n",
              "      } catch (error) {\n",
              "        console.error('Error during call to suggestCharts:', error);\n",
              "      }\n",
              "      quickchartButtonEl.classList.remove('colab-df-spinner');\n",
              "      quickchartButtonEl.classList.add('colab-df-quickchart-complete');\n",
              "    }\n",
              "    (() => {\n",
              "      let quickchartButtonEl =\n",
              "        document.querySelector('#df-7291cb03-30b1-45e0-8206-9b4f592eb380 button');\n",
              "      quickchartButtonEl.style.display =\n",
              "        google.colab.kernel.accessAllowed ? 'block' : 'none';\n",
              "    })();\n",
              "  </script>\n",
              "</div>\n",
              "    </div>\n",
              "  </div>\n"
            ],
            "application/vnd.google.colaboratory.intrinsic+json": {
              "type": "dataframe",
              "variable_name": "df1",
              "summary": "{\n  \"name\": \"df1\",\n  \"rows\": 18,\n  \"fields\": [\n    {\n      \"column\": \"index\",\n      \"properties\": {\n        \"dtype\": \"string\",\n        \"num_unique_values\": 18,\n        \"samples\": [\n          \"Account length\",\n          \"Area code\",\n          \"Total eve minutes\"\n        ],\n        \"semantic_type\": \"\",\n        \"description\": \"\"\n      }\n    },\n    {\n      \"column\": \"Imp\",\n      \"properties\": {\n        \"dtype\": \"number\",\n        \"std\": 0.06888696421251228,\n        \"min\": 0.0,\n        \"max\": 0.25588212045963554,\n        \"num_unique_values\": 16,\n        \"samples\": [\n          0.00451407001804213,\n          0.0,\n          0.0088631012038437\n        ],\n        \"semantic_type\": \"\",\n        \"description\": \"\"\n      }\n    }\n  ]\n}"
            }
          },
          "metadata": {},
          "execution_count": 45
        }
      ]
    },
    {
      "cell_type": "code",
      "source": [
        "df1.sort_values(by = 'Imp')"
      ],
      "metadata": {
        "id": "G-FTTUF9GEaR",
        "outputId": "689a93ca-5003-4d31-f554-125206773341",
        "colab": {
          "base_uri": "https://localhost:8080/",
          "height": 613
        }
      },
      "execution_count": 48,
      "outputs": [
        {
          "output_type": "execute_result",
          "data": {
            "text/plain": [
              "                     index       Imp\n",
              "1                Area code  0.000000\n",
              "14      Total intl minutes  0.000000\n",
              "3          Voice mail plan  0.000000\n",
              "9          Total eve calls  0.003611\n",
              "0           Account length  0.004514\n",
              "11     Total night minutes  0.006320\n",
              "6          Total day calls  0.008863\n",
              "12       Total night calls  0.009289\n",
              "13      Total night charge  0.017825\n",
              "5        Total day minutes  0.023417\n",
              "10        Total eve charge  0.069741\n",
              "4    Number vmail messages  0.072051\n",
              "8        Total eve minutes  0.075397\n",
              "16       Total intl charge  0.077777\n",
              "2       International plan  0.107456\n",
              "15        Total intl calls  0.119125\n",
              "17  Customer service calls  0.148730\n",
              "7         Total day charge  0.255882"
            ],
            "text/html": [
              "\n",
              "  <div id=\"df-6ebda9f3-35d3-4159-851b-12bc1f9f1746\" class=\"colab-df-container\">\n",
              "    <div>\n",
              "<style scoped>\n",
              "    .dataframe tbody tr th:only-of-type {\n",
              "        vertical-align: middle;\n",
              "    }\n",
              "\n",
              "    .dataframe tbody tr th {\n",
              "        vertical-align: top;\n",
              "    }\n",
              "\n",
              "    .dataframe thead th {\n",
              "        text-align: right;\n",
              "    }\n",
              "</style>\n",
              "<table border=\"1\" class=\"dataframe\">\n",
              "  <thead>\n",
              "    <tr style=\"text-align: right;\">\n",
              "      <th></th>\n",
              "      <th>index</th>\n",
              "      <th>Imp</th>\n",
              "    </tr>\n",
              "  </thead>\n",
              "  <tbody>\n",
              "    <tr>\n",
              "      <th>1</th>\n",
              "      <td>Area code</td>\n",
              "      <td>0.000000</td>\n",
              "    </tr>\n",
              "    <tr>\n",
              "      <th>14</th>\n",
              "      <td>Total intl minutes</td>\n",
              "      <td>0.000000</td>\n",
              "    </tr>\n",
              "    <tr>\n",
              "      <th>3</th>\n",
              "      <td>Voice mail plan</td>\n",
              "      <td>0.000000</td>\n",
              "    </tr>\n",
              "    <tr>\n",
              "      <th>9</th>\n",
              "      <td>Total eve calls</td>\n",
              "      <td>0.003611</td>\n",
              "    </tr>\n",
              "    <tr>\n",
              "      <th>0</th>\n",
              "      <td>Account length</td>\n",
              "      <td>0.004514</td>\n",
              "    </tr>\n",
              "    <tr>\n",
              "      <th>11</th>\n",
              "      <td>Total night minutes</td>\n",
              "      <td>0.006320</td>\n",
              "    </tr>\n",
              "    <tr>\n",
              "      <th>6</th>\n",
              "      <td>Total day calls</td>\n",
              "      <td>0.008863</td>\n",
              "    </tr>\n",
              "    <tr>\n",
              "      <th>12</th>\n",
              "      <td>Total night calls</td>\n",
              "      <td>0.009289</td>\n",
              "    </tr>\n",
              "    <tr>\n",
              "      <th>13</th>\n",
              "      <td>Total night charge</td>\n",
              "      <td>0.017825</td>\n",
              "    </tr>\n",
              "    <tr>\n",
              "      <th>5</th>\n",
              "      <td>Total day minutes</td>\n",
              "      <td>0.023417</td>\n",
              "    </tr>\n",
              "    <tr>\n",
              "      <th>10</th>\n",
              "      <td>Total eve charge</td>\n",
              "      <td>0.069741</td>\n",
              "    </tr>\n",
              "    <tr>\n",
              "      <th>4</th>\n",
              "      <td>Number vmail messages</td>\n",
              "      <td>0.072051</td>\n",
              "    </tr>\n",
              "    <tr>\n",
              "      <th>8</th>\n",
              "      <td>Total eve minutes</td>\n",
              "      <td>0.075397</td>\n",
              "    </tr>\n",
              "    <tr>\n",
              "      <th>16</th>\n",
              "      <td>Total intl charge</td>\n",
              "      <td>0.077777</td>\n",
              "    </tr>\n",
              "    <tr>\n",
              "      <th>2</th>\n",
              "      <td>International plan</td>\n",
              "      <td>0.107456</td>\n",
              "    </tr>\n",
              "    <tr>\n",
              "      <th>15</th>\n",
              "      <td>Total intl calls</td>\n",
              "      <td>0.119125</td>\n",
              "    </tr>\n",
              "    <tr>\n",
              "      <th>17</th>\n",
              "      <td>Customer service calls</td>\n",
              "      <td>0.148730</td>\n",
              "    </tr>\n",
              "    <tr>\n",
              "      <th>7</th>\n",
              "      <td>Total day charge</td>\n",
              "      <td>0.255882</td>\n",
              "    </tr>\n",
              "  </tbody>\n",
              "</table>\n",
              "</div>\n",
              "    <div class=\"colab-df-buttons\">\n",
              "\n",
              "  <div class=\"colab-df-container\">\n",
              "    <button class=\"colab-df-convert\" onclick=\"convertToInteractive('df-6ebda9f3-35d3-4159-851b-12bc1f9f1746')\"\n",
              "            title=\"Convert this dataframe to an interactive table.\"\n",
              "            style=\"display:none;\">\n",
              "\n",
              "  <svg xmlns=\"http://www.w3.org/2000/svg\" height=\"24px\" viewBox=\"0 -960 960 960\">\n",
              "    <path d=\"M120-120v-720h720v720H120Zm60-500h600v-160H180v160Zm220 220h160v-160H400v160Zm0 220h160v-160H400v160ZM180-400h160v-160H180v160Zm440 0h160v-160H620v160ZM180-180h160v-160H180v160Zm440 0h160v-160H620v160Z\"/>\n",
              "  </svg>\n",
              "    </button>\n",
              "\n",
              "  <style>\n",
              "    .colab-df-container {\n",
              "      display:flex;\n",
              "      gap: 12px;\n",
              "    }\n",
              "\n",
              "    .colab-df-convert {\n",
              "      background-color: #E8F0FE;\n",
              "      border: none;\n",
              "      border-radius: 50%;\n",
              "      cursor: pointer;\n",
              "      display: none;\n",
              "      fill: #1967D2;\n",
              "      height: 32px;\n",
              "      padding: 0 0 0 0;\n",
              "      width: 32px;\n",
              "    }\n",
              "\n",
              "    .colab-df-convert:hover {\n",
              "      background-color: #E2EBFA;\n",
              "      box-shadow: 0px 1px 2px rgba(60, 64, 67, 0.3), 0px 1px 3px 1px rgba(60, 64, 67, 0.15);\n",
              "      fill: #174EA6;\n",
              "    }\n",
              "\n",
              "    .colab-df-buttons div {\n",
              "      margin-bottom: 4px;\n",
              "    }\n",
              "\n",
              "    [theme=dark] .colab-df-convert {\n",
              "      background-color: #3B4455;\n",
              "      fill: #D2E3FC;\n",
              "    }\n",
              "\n",
              "    [theme=dark] .colab-df-convert:hover {\n",
              "      background-color: #434B5C;\n",
              "      box-shadow: 0px 1px 3px 1px rgba(0, 0, 0, 0.15);\n",
              "      filter: drop-shadow(0px 1px 2px rgba(0, 0, 0, 0.3));\n",
              "      fill: #FFFFFF;\n",
              "    }\n",
              "  </style>\n",
              "\n",
              "    <script>\n",
              "      const buttonEl =\n",
              "        document.querySelector('#df-6ebda9f3-35d3-4159-851b-12bc1f9f1746 button.colab-df-convert');\n",
              "      buttonEl.style.display =\n",
              "        google.colab.kernel.accessAllowed ? 'block' : 'none';\n",
              "\n",
              "      async function convertToInteractive(key) {\n",
              "        const element = document.querySelector('#df-6ebda9f3-35d3-4159-851b-12bc1f9f1746');\n",
              "        const dataTable =\n",
              "          await google.colab.kernel.invokeFunction('convertToInteractive',\n",
              "                                                    [key], {});\n",
              "        if (!dataTable) return;\n",
              "\n",
              "        const docLinkHtml = 'Like what you see? Visit the ' +\n",
              "          '<a target=\"_blank\" href=https://colab.research.google.com/notebooks/data_table.ipynb>data table notebook</a>'\n",
              "          + ' to learn more about interactive tables.';\n",
              "        element.innerHTML = '';\n",
              "        dataTable['output_type'] = 'display_data';\n",
              "        await google.colab.output.renderOutput(dataTable, element);\n",
              "        const docLink = document.createElement('div');\n",
              "        docLink.innerHTML = docLinkHtml;\n",
              "        element.appendChild(docLink);\n",
              "      }\n",
              "    </script>\n",
              "  </div>\n",
              "\n",
              "\n",
              "<div id=\"df-616ab4ed-788c-49be-9bbf-d972ad749aaa\">\n",
              "  <button class=\"colab-df-quickchart\" onclick=\"quickchart('df-616ab4ed-788c-49be-9bbf-d972ad749aaa')\"\n",
              "            title=\"Suggest charts\"\n",
              "            style=\"display:none;\">\n",
              "\n",
              "<svg xmlns=\"http://www.w3.org/2000/svg\" height=\"24px\"viewBox=\"0 0 24 24\"\n",
              "     width=\"24px\">\n",
              "    <g>\n",
              "        <path d=\"M19 3H5c-1.1 0-2 .9-2 2v14c0 1.1.9 2 2 2h14c1.1 0 2-.9 2-2V5c0-1.1-.9-2-2-2zM9 17H7v-7h2v7zm4 0h-2V7h2v10zm4 0h-2v-4h2v4z\"/>\n",
              "    </g>\n",
              "</svg>\n",
              "  </button>\n",
              "\n",
              "<style>\n",
              "  .colab-df-quickchart {\n",
              "      --bg-color: #E8F0FE;\n",
              "      --fill-color: #1967D2;\n",
              "      --hover-bg-color: #E2EBFA;\n",
              "      --hover-fill-color: #174EA6;\n",
              "      --disabled-fill-color: #AAA;\n",
              "      --disabled-bg-color: #DDD;\n",
              "  }\n",
              "\n",
              "  [theme=dark] .colab-df-quickchart {\n",
              "      --bg-color: #3B4455;\n",
              "      --fill-color: #D2E3FC;\n",
              "      --hover-bg-color: #434B5C;\n",
              "      --hover-fill-color: #FFFFFF;\n",
              "      --disabled-bg-color: #3B4455;\n",
              "      --disabled-fill-color: #666;\n",
              "  }\n",
              "\n",
              "  .colab-df-quickchart {\n",
              "    background-color: var(--bg-color);\n",
              "    border: none;\n",
              "    border-radius: 50%;\n",
              "    cursor: pointer;\n",
              "    display: none;\n",
              "    fill: var(--fill-color);\n",
              "    height: 32px;\n",
              "    padding: 0;\n",
              "    width: 32px;\n",
              "  }\n",
              "\n",
              "  .colab-df-quickchart:hover {\n",
              "    background-color: var(--hover-bg-color);\n",
              "    box-shadow: 0 1px 2px rgba(60, 64, 67, 0.3), 0 1px 3px 1px rgba(60, 64, 67, 0.15);\n",
              "    fill: var(--button-hover-fill-color);\n",
              "  }\n",
              "\n",
              "  .colab-df-quickchart-complete:disabled,\n",
              "  .colab-df-quickchart-complete:disabled:hover {\n",
              "    background-color: var(--disabled-bg-color);\n",
              "    fill: var(--disabled-fill-color);\n",
              "    box-shadow: none;\n",
              "  }\n",
              "\n",
              "  .colab-df-spinner {\n",
              "    border: 2px solid var(--fill-color);\n",
              "    border-color: transparent;\n",
              "    border-bottom-color: var(--fill-color);\n",
              "    animation:\n",
              "      spin 1s steps(1) infinite;\n",
              "  }\n",
              "\n",
              "  @keyframes spin {\n",
              "    0% {\n",
              "      border-color: transparent;\n",
              "      border-bottom-color: var(--fill-color);\n",
              "      border-left-color: var(--fill-color);\n",
              "    }\n",
              "    20% {\n",
              "      border-color: transparent;\n",
              "      border-left-color: var(--fill-color);\n",
              "      border-top-color: var(--fill-color);\n",
              "    }\n",
              "    30% {\n",
              "      border-color: transparent;\n",
              "      border-left-color: var(--fill-color);\n",
              "      border-top-color: var(--fill-color);\n",
              "      border-right-color: var(--fill-color);\n",
              "    }\n",
              "    40% {\n",
              "      border-color: transparent;\n",
              "      border-right-color: var(--fill-color);\n",
              "      border-top-color: var(--fill-color);\n",
              "    }\n",
              "    60% {\n",
              "      border-color: transparent;\n",
              "      border-right-color: var(--fill-color);\n",
              "    }\n",
              "    80% {\n",
              "      border-color: transparent;\n",
              "      border-right-color: var(--fill-color);\n",
              "      border-bottom-color: var(--fill-color);\n",
              "    }\n",
              "    90% {\n",
              "      border-color: transparent;\n",
              "      border-bottom-color: var(--fill-color);\n",
              "    }\n",
              "  }\n",
              "</style>\n",
              "\n",
              "  <script>\n",
              "    async function quickchart(key) {\n",
              "      const quickchartButtonEl =\n",
              "        document.querySelector('#' + key + ' button');\n",
              "      quickchartButtonEl.disabled = true;  // To prevent multiple clicks.\n",
              "      quickchartButtonEl.classList.add('colab-df-spinner');\n",
              "      try {\n",
              "        const charts = await google.colab.kernel.invokeFunction(\n",
              "            'suggestCharts', [key], {});\n",
              "      } catch (error) {\n",
              "        console.error('Error during call to suggestCharts:', error);\n",
              "      }\n",
              "      quickchartButtonEl.classList.remove('colab-df-spinner');\n",
              "      quickchartButtonEl.classList.add('colab-df-quickchart-complete');\n",
              "    }\n",
              "    (() => {\n",
              "      let quickchartButtonEl =\n",
              "        document.querySelector('#df-616ab4ed-788c-49be-9bbf-d972ad749aaa button');\n",
              "      quickchartButtonEl.style.display =\n",
              "        google.colab.kernel.accessAllowed ? 'block' : 'none';\n",
              "    })();\n",
              "  </script>\n",
              "</div>\n",
              "    </div>\n",
              "  </div>\n"
            ],
            "application/vnd.google.colaboratory.intrinsic+json": {
              "type": "dataframe",
              "summary": "{\n  \"name\": \"df1\",\n  \"rows\": 18,\n  \"fields\": [\n    {\n      \"column\": \"index\",\n      \"properties\": {\n        \"dtype\": \"string\",\n        \"num_unique_values\": 18,\n        \"samples\": [\n          \"Area code\",\n          \"Total intl minutes\",\n          \"Total night charge\"\n        ],\n        \"semantic_type\": \"\",\n        \"description\": \"\"\n      }\n    },\n    {\n      \"column\": \"Imp\",\n      \"properties\": {\n        \"dtype\": \"number\",\n        \"std\": 0.06888696421251228,\n        \"min\": 0.0,\n        \"max\": 0.25588212045963554,\n        \"num_unique_values\": 16,\n        \"samples\": [\n          0.0,\n          0.003611256014433703,\n          0.00928925694823901\n        ],\n        \"semantic_type\": \"\",\n        \"description\": \"\"\n      }\n    }\n  ]\n}"
            }
          },
          "metadata": {},
          "execution_count": 48
        }
      ]
    },
    {
      "cell_type": "code",
      "source": [
        "# your code here\n",
        "import numpy as np\n",
        "import matplotlib.pyplot as plt\n",
        "from sklearn.ensemble import RandomForestClassifier\n",
        "from sklearn import datasets\n",
        "\n",
        "# Получение важности признаков\n",
        "importances = tree.feature_importances_\n",
        "\n",
        "# Сортировка индексов признаков по убыванию важности\n",
        "indices = np.argsort(importances)[::-1]\n",
        "\n",
        "# Построение гистограммы важности признаков\n",
        "plt.figure()\n",
        "plt.title(\"Feature importances\")\n",
        "plt.bar(range(Xtrain.shape[1]), importances[indices], align=\"center\")\n",
        "plt.xticks(range(Xtrain.shape[1]), indices)\n",
        "plt.xlabel(\"Feature\")\n",
        "plt.ylabel(\"Importance\")\n",
        "plt.show()\n"
      ],
      "metadata": {
        "id": "lz_y6FjJ7Kol",
        "outputId": "3e190b8a-78d1-406b-a773-bb7ef6f40df2",
        "colab": {
          "base_uri": "https://localhost:8080/",
          "height": 472
        }
      },
      "execution_count": 30,
      "outputs": [
        {
          "output_type": "display_data",
          "data": {
            "text/plain": [
              "<Figure size 640x480 with 1 Axes>"
            ],
            "image/png": "[encoded data removed]"
          },
          "metadata": {}
        }
      ]
    },
    {
      "cell_type": "markdown",
      "source": [
        "Сделайте выводы (для себя)\n",
        "\n",
        "1) Являются ли данные сбалансированными? Что это означает?\n",
        "\n",
        "2) Какая модель после подбора гиперпараметров лучше всего решает задачу с точки зрения метрики roc-auc?\n",
        "\n",
        "3) Одинаковые ли признаки важны для работы двух наилучших моделей? Как вы думаете, почему так?"
      ],
      "metadata": {
        "id": "beRXM0lT8MUp"
      }
    }
  ]
}