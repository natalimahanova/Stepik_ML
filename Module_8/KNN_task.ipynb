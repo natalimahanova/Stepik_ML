{
  "nbformat": 4,
  "nbformat_minor": 0,
  "metadata": {
    "colab": {
      "provenance": []
    },
    "kernelspec": {
      "name": "python3",
      "display_name": "Python 3"
    },
    "language_info": {
      "name": "python"
    }
  },
  "cells": [
    {
      "cell_type": "markdown",
      "source": [
        "# Метрические алгоритмы. Практика"
      ],
      "metadata": {
        "id": "AkS7Lxm8nTLB"
      }
    },
    {
      "cell_type": "markdown",
      "source": [
        "В этом домашнем задании вы будете решать задачу классификации бутылок вина по различным характеристикам."
      ],
      "metadata": {
        "id": "3jgxaKLXynLQ"
      }
    },
    {
      "cell_type": "markdown",
      "source": [
        "## Импорт библиотек, установка константных значений"
      ],
      "metadata": {
        "id": "ow7CdXlWyrfI"
      }
    },
    {
      "cell_type": "code",
      "source": [
        "import pandas as pd\n",
        "import numpy as np"
      ],
      "metadata": {
        "id": "shgV5ZT-oLG2"
      },
      "execution_count": 1,
      "outputs": []
    },
    {
      "cell_type": "code",
      "source": [
        "RANDOM_STATE = 42\n",
        "TRAIN_SIZE = 0.75"
      ],
      "metadata": {
        "id": "85Rgp6ivyvZq"
      },
      "execution_count": 2,
      "outputs": []
    },
    {
      "cell_type": "code",
      "source": [
        "rng = np.random.default_rng(RANDOM_STATE)"
      ],
      "metadata": {
        "id": "QGpwI1GxyySs"
      },
      "execution_count": 3,
      "outputs": []
    },
    {
      "cell_type": "markdown",
      "source": [
        "## Загрузка данных"
      ],
      "metadata": {
        "id": "uOk2Swygyxho"
      }
    },
    {
      "cell_type": "code",
      "execution_count": 4,
      "metadata": {
        "id": "_8RhxtHwwzTG"
      },
      "outputs": [],
      "source": [
        "from sklearn.datasets import load_wine\n",
        "\n",
        "data = load_wine(as_frame=True)\n",
        "\n",
        "X = data.data\n",
        "y = data.target"
      ]
    },
    {
      "cell_type": "markdown",
      "source": [
        "## Задание 1"
      ],
      "metadata": {
        "id": "KvNTy4_yzOwY"
      }
    },
    {
      "cell_type": "markdown",
      "source": [
        "Посмотрите на количество классов и количество объектов каждого класса в датасете."
      ],
      "metadata": {
        "id": "PNKeCjtEncob"
      }
    },
    {
      "cell_type": "markdown",
      "source": [
        "**Вопрос**:  \n",
        "Сколько классов в задаче?"
      ],
      "metadata": {
        "id": "1O1xV6KWzW8e"
      }
    },
    {
      "cell_type": "code",
      "source": [
        "# ваш код здесь\n",
        "y.unique()"
      ],
      "metadata": {
        "id": "vnIXJMT9nh78",
        "outputId": "47b4c5f6-7bf5-4559-d333-1d6649c10641",
        "colab": {
          "base_uri": "https://localhost:8080/"
        }
      },
      "execution_count": 5,
      "outputs": [
        {
          "output_type": "execute_result",
          "data": {
            "text/plain": [
              "array([0, 1, 2])"
            ]
          },
          "metadata": {},
          "execution_count": 5
        }
      ]
    },
    {
      "cell_type": "markdown",
      "source": [
        "## Задание 2"
      ],
      "metadata": {
        "id": "jk9RqS69z6af"
      }
    },
    {
      "cell_type": "markdown",
      "source": [
        "Мы имеем дело с многоклассовой классификацией. Кроме того, классы не очень хорошо сбалансированы, поэтому для оценки качества модели метрика *accuracy* не подойдет."
      ],
      "metadata": {
        "id": "S8dnUB81nkG0"
      }
    },
    {
      "cell_type": "markdown",
      "source": [
        "Разбейте данные на тренировочную и тестовую части:  \n",
        "тестовая часть - 25% от всех данных, зафиксируйте `random_state = RANDOM_STATE`."
      ],
      "metadata": {
        "id": "qM6ZTfphyL8W"
      }
    },
    {
      "cell_type": "code",
      "source": [
        "from sklearn.model_selection import train_test_split\n",
        "\n",
        "X_train, X_test, y_train, y_test = train_test_split(X, y, test_size=0.25, random_state=RANDOM_STATE) # ваш код здесь"
      ],
      "metadata": {
        "id": "f16RkGUaxUh4"
      },
      "execution_count": 6,
      "outputs": []
    },
    {
      "cell_type": "markdown",
      "source": [
        "**Вопрос:**\n",
        "\n",
        "Все ли признаки в данных одного масштаба?  \n",
        "Проверьте это, выведя основные числовые характеристики матрицы `X_train` методом `describe` из библиотеки `pandas`.\n",
        "\n",
        "По полученной таблице числовых характеристик определите, какой признак измеряется в сотнях?  \n",
        "(если вариантов несколько, выберите признак с наибольшим средним значением)."
      ],
      "metadata": {
        "id": "bX6Vv4dryREe"
      }
    },
    {
      "cell_type": "code",
      "source": [
        "# ваш код здесь\n",
        "X_train.describe()"
      ],
      "metadata": {
        "id": "VTOG8ggByUSZ",
        "outputId": "f483fda0-6f45-4a2f-8039-e6f0df895917",
        "colab": {
          "base_uri": "https://localhost:8080/",
          "height": 320
        }
      },
      "execution_count": 7,
      "outputs": [
        {
          "output_type": "execute_result",
          "data": {
            "text/plain": [
              "          alcohol  malic_acid         ash  alcalinity_of_ash   magnesium  \\\n",
              "count  133.000000  133.000000  133.000000         133.000000  133.000000   \n",
              "mean    12.972857    2.386842    2.362180          19.433835  100.759398   \n",
              "std      0.829993    1.098905    0.280606           3.467312   14.999571   \n",
              "min     11.030000    0.890000    1.360000          10.600000   70.000000   \n",
              "25%     12.290000    1.640000    2.210000          17.200000   88.000000   \n",
              "50%     12.990000    1.900000    2.360000          19.400000   98.000000   \n",
              "75%     13.690000    3.170000    2.540000          21.500000  108.000000   \n",
              "max     14.830000    5.800000    3.230000          30.000000  162.000000   \n",
              "\n",
              "       total_phenols  flavanoids  nonflavanoid_phenols  proanthocyanins  \\\n",
              "count     133.000000  133.000000            133.000000       133.000000   \n",
              "mean        2.277068    2.021203              0.363534         1.608647   \n",
              "std         0.645696    1.005537              0.126923         0.576964   \n",
              "min         0.980000    0.340000              0.130000         0.420000   \n",
              "25%         1.700000    1.200000              0.260000         1.250000   \n",
              "50%         2.230000    2.140000              0.340000         1.560000   \n",
              "75%         2.800000    2.880000              0.450000         1.960000   \n",
              "max         3.880000    5.080000              0.660000         3.580000   \n",
              "\n",
              "       color_intensity         hue  od280/od315_of_diluted_wines      proline  \n",
              "count       133.000000  133.000000                    133.000000   133.000000  \n",
              "mean          5.017594    0.959444                      2.610000   742.992481  \n",
              "std           2.202516    0.234545                      0.729961   306.867593  \n",
              "min           1.740000    0.480000                      1.270000   278.000000  \n",
              "25%           3.250000    0.780000                      1.830000   500.000000  \n",
              "50%           4.800000    0.970000                      2.810000   675.000000  \n",
              "75%           6.130000    1.120000                      3.200000   970.000000  \n",
              "max          10.800000    1.710000                      4.000000  1547.000000  "
            ],
            "text/html": [
              "\n",
              "  <div id=\"df-2b95f8ab-f0b8-4bba-8042-bf8ed1592a23\" class=\"colab-df-container\">\n",
              "    <div>\n",
              "<style scoped>\n",
              "    .dataframe tbody tr th:only-of-type {\n",
              "        vertical-align: middle;\n",
              "    }\n",
              "\n",
              "    .dataframe tbody tr th {\n",
              "        vertical-align: top;\n",
              "    }\n",
              "\n",
              "    .dataframe thead th {\n",
              "        text-align: right;\n",
              "    }\n",
              "</style>\n",
              "<table border=\"1\" class=\"dataframe\">\n",
              "  <thead>\n",
              "    <tr style=\"text-align: right;\">\n",
              "      <th></th>\n",
              "      <th>alcohol</th>\n",
              "      <th>malic_acid</th>\n",
              "      <th>ash</th>\n",
              "      <th>alcalinity_of_ash</th>\n",
              "      <th>magnesium</th>\n",
              "      <th>total_phenols</th>\n",
              "      <th>flavanoids</th>\n",
              "      <th>nonflavanoid_phenols</th>\n",
              "      <th>proanthocyanins</th>\n",
              "      <th>color_intensity</th>\n",
              "      <th>hue</th>\n",
              "      <th>od280/od315_of_diluted_wines</th>\n",
              "      <th>proline</th>\n",
              "    </tr>\n",
              "  </thead>\n",
              "  <tbody>\n",
              "    <tr>\n",
              "      <th>count</th>\n",
              "      <td>133.000000</td>\n",
              "      <td>133.000000</td>\n",
              "      <td>133.000000</td>\n",
              "      <td>133.000000</td>\n",
              "      <td>133.000000</td>\n",
              "      <td>133.000000</td>\n",
              "      <td>133.000000</td>\n",
              "      <td>133.000000</td>\n",
              "      <td>133.000000</td>\n",
              "      <td>133.000000</td>\n",
              "      <td>133.000000</td>\n",
              "      <td>133.000000</td>\n",
              "      <td>133.000000</td>\n",
              "    </tr>\n",
              "    <tr>\n",
              "      <th>mean</th>\n",
              "      <td>12.972857</td>\n",
              "      <td>2.386842</td>\n",
              "      <td>2.362180</td>\n",
              "      <td>19.433835</td>\n",
              "      <td>100.759398</td>\n",
              "      <td>2.277068</td>\n",
              "      <td>2.021203</td>\n",
              "      <td>0.363534</td>\n",
              "      <td>1.608647</td>\n",
              "      <td>5.017594</td>\n",
              "      <td>0.959444</td>\n",
              "      <td>2.610000</td>\n",
              "      <td>742.992481</td>\n",
              "    </tr>\n",
              "    <tr>\n",
              "      <th>std</th>\n",
              "      <td>0.829993</td>\n",
              "      <td>1.098905</td>\n",
              "      <td>0.280606</td>\n",
              "      <td>3.467312</td>\n",
              "      <td>14.999571</td>\n",
              "      <td>0.645696</td>\n",
              "      <td>1.005537</td>\n",
              "      <td>0.126923</td>\n",
              "      <td>0.576964</td>\n",
              "      <td>2.202516</td>\n",
              "      <td>0.234545</td>\n",
              "      <td>0.729961</td>\n",
              "      <td>306.867593</td>\n",
              "    </tr>\n",
              "    <tr>\n",
              "      <th>min</th>\n",
              "      <td>11.030000</td>\n",
              "      <td>0.890000</td>\n",
              "      <td>1.360000</td>\n",
              "      <td>10.600000</td>\n",
              "      <td>70.000000</td>\n",
              "      <td>0.980000</td>\n",
              "      <td>0.340000</td>\n",
              "      <td>0.130000</td>\n",
              "      <td>0.420000</td>\n",
              "      <td>1.740000</td>\n",
              "      <td>0.480000</td>\n",
              "      <td>1.270000</td>\n",
              "      <td>278.000000</td>\n",
              "    </tr>\n",
              "    <tr>\n",
              "      <th>25%</th>\n",
              "      <td>12.290000</td>\n",
              "      <td>1.640000</td>\n",
              "      <td>2.210000</td>\n",
              "      <td>17.200000</td>\n",
              "      <td>88.000000</td>\n",
              "      <td>1.700000</td>\n",
              "      <td>1.200000</td>\n",
              "      <td>0.260000</td>\n",
              "      <td>1.250000</td>\n",
              "      <td>3.250000</td>\n",
              "      <td>0.780000</td>\n",
              "      <td>1.830000</td>\n",
              "      <td>500.000000</td>\n",
              "    </tr>\n",
              "    <tr>\n",
              "      <th>50%</th>\n",
              "      <td>12.990000</td>\n",
              "      <td>1.900000</td>\n",
              "      <td>2.360000</td>\n",
              "      <td>19.400000</td>\n",
              "      <td>98.000000</td>\n",
              "      <td>2.230000</td>\n",
              "      <td>2.140000</td>\n",
              "      <td>0.340000</td>\n",
              "      <td>1.560000</td>\n",
              "      <td>4.800000</td>\n",
              "      <td>0.970000</td>\n",
              "      <td>2.810000</td>\n",
              "      <td>675.000000</td>\n",
              "    </tr>\n",
              "    <tr>\n",
              "      <th>75%</th>\n",
              "      <td>13.690000</td>\n",
              "      <td>3.170000</td>\n",
              "      <td>2.540000</td>\n",
              "      <td>21.500000</td>\n",
              "      <td>108.000000</td>\n",
              "      <td>2.800000</td>\n",
              "      <td>2.880000</td>\n",
              "      <td>0.450000</td>\n",
              "      <td>1.960000</td>\n",
              "      <td>6.130000</td>\n",
              "      <td>1.120000</td>\n",
              "      <td>3.200000</td>\n",
              "      <td>970.000000</td>\n",
              "    </tr>\n",
              "    <tr>\n",
              "      <th>max</th>\n",
              "      <td>14.830000</td>\n",
              "      <td>5.800000</td>\n",
              "      <td>3.230000</td>\n",
              "      <td>30.000000</td>\n",
              "      <td>162.000000</td>\n",
              "      <td>3.880000</td>\n",
              "      <td>5.080000</td>\n",
              "      <td>0.660000</td>\n",
              "      <td>3.580000</td>\n",
              "      <td>10.800000</td>\n",
              "      <td>1.710000</td>\n",
              "      <td>4.000000</td>\n",
              "      <td>1547.000000</td>\n",
              "    </tr>\n",
              "  </tbody>\n",
              "</table>\n",
              "</div>\n",
              "    <div class=\"colab-df-buttons\">\n",
              "\n",
              "  <div class=\"colab-df-container\">\n",
              "    <button class=\"colab-df-convert\" onclick=\"convertToInteractive('df-2b95f8ab-f0b8-4bba-8042-bf8ed1592a23')\"\n",
              "            title=\"Convert this dataframe to an interactive table.\"\n",
              "            style=\"display:none;\">\n",
              "\n",
              "  <svg xmlns=\"http://www.w3.org/2000/svg\" height=\"24px\" viewBox=\"0 -960 960 960\">\n",
              "    <path d=\"M120-120v-720h720v720H120Zm60-500h600v-160H180v160Zm220 220h160v-160H400v160Zm0 220h160v-160H400v160ZM180-400h160v-160H180v160Zm440 0h160v-160H620v160ZM180-180h160v-160H180v160Zm440 0h160v-160H620v160Z\"/>\n",
              "  </svg>\n",
              "    </button>\n",
              "\n",
              "  <style>\n",
              "    .colab-df-container {\n",
              "      display:flex;\n",
              "      gap: 12px;\n",
              "    }\n",
              "\n",
              "    .colab-df-convert {\n",
              "      background-color: #E8F0FE;\n",
              "      border: none;\n",
              "      border-radius: 50%;\n",
              "      cursor: pointer;\n",
              "      display: none;\n",
              "      fill: #1967D2;\n",
              "      height: 32px;\n",
              "      padding: 0 0 0 0;\n",
              "      width: 32px;\n",
              "    }\n",
              "\n",
              "    .colab-df-convert:hover {\n",
              "      background-color: #E2EBFA;\n",
              "      box-shadow: 0px 1px 2px rgba(60, 64, 67, 0.3), 0px 1px 3px 1px rgba(60, 64, 67, 0.15);\n",
              "      fill: #174EA6;\n",
              "    }\n",
              "\n",
              "    .colab-df-buttons div {\n",
              "      margin-bottom: 4px;\n",
              "    }\n",
              "\n",
              "    [theme=dark] .colab-df-convert {\n",
              "      background-color: #3B4455;\n",
              "      fill: #D2E3FC;\n",
              "    }\n",
              "\n",
              "    [theme=dark] .colab-df-convert:hover {\n",
              "      background-color: #434B5C;\n",
              "      box-shadow: 0px 1px 3px 1px rgba(0, 0, 0, 0.15);\n",
              "      filter: drop-shadow(0px 1px 2px rgba(0, 0, 0, 0.3));\n",
              "      fill: #FFFFFF;\n",
              "    }\n",
              "  </style>\n",
              "\n",
              "    <script>\n",
              "      const buttonEl =\n",
              "        document.querySelector('#df-2b95f8ab-f0b8-4bba-8042-bf8ed1592a23 button.colab-df-convert');\n",
              "      buttonEl.style.display =\n",
              "        google.colab.kernel.accessAllowed ? 'block' : 'none';\n",
              "\n",
              "      async function convertToInteractive(key) {\n",
              "        const element = document.querySelector('#df-2b95f8ab-f0b8-4bba-8042-bf8ed1592a23');\n",
              "        const dataTable =\n",
              "          await google.colab.kernel.invokeFunction('convertToInteractive',\n",
              "                                                    [key], {});\n",
              "        if (!dataTable) return;\n",
              "\n",
              "        const docLinkHtml = 'Like what you see? Visit the ' +\n",
              "          '<a target=\"_blank\" href=https://colab.research.google.com/notebooks/data_table.ipynb>data table notebook</a>'\n",
              "          + ' to learn more about interactive tables.';\n",
              "        element.innerHTML = '';\n",
              "        dataTable['output_type'] = 'display_data';\n",
              "        await google.colab.output.renderOutput(dataTable, element);\n",
              "        const docLink = document.createElement('div');\n",
              "        docLink.innerHTML = docLinkHtml;\n",
              "        element.appendChild(docLink);\n",
              "      }\n",
              "    </script>\n",
              "  </div>\n",
              "\n",
              "\n",
              "<div id=\"df-80454943-8573-40ad-8633-27c0e3e64084\">\n",
              "  <button class=\"colab-df-quickchart\" onclick=\"quickchart('df-80454943-8573-40ad-8633-27c0e3e64084')\"\n",
              "            title=\"Suggest charts\"\n",
              "            style=\"display:none;\">\n",
              "\n",
              "<svg xmlns=\"http://www.w3.org/2000/svg\" height=\"24px\"viewBox=\"0 0 24 24\"\n",
              "     width=\"24px\">\n",
              "    <g>\n",
              "        <path d=\"M19 3H5c-1.1 0-2 .9-2 2v14c0 1.1.9 2 2 2h14c1.1 0 2-.9 2-2V5c0-1.1-.9-2-2-2zM9 17H7v-7h2v7zm4 0h-2V7h2v10zm4 0h-2v-4h2v4z\"/>\n",
              "    </g>\n",
              "</svg>\n",
              "  </button>\n",
              "\n",
              "<style>\n",
              "  .colab-df-quickchart {\n",
              "      --bg-color: #E8F0FE;\n",
              "      --fill-color: #1967D2;\n",
              "      --hover-bg-color: #E2EBFA;\n",
              "      --hover-fill-color: #174EA6;\n",
              "      --disabled-fill-color: #AAA;\n",
              "      --disabled-bg-color: #DDD;\n",
              "  }\n",
              "\n",
              "  [theme=dark] .colab-df-quickchart {\n",
              "      --bg-color: #3B4455;\n",
              "      --fill-color: #D2E3FC;\n",
              "      --hover-bg-color: #434B5C;\n",
              "      --hover-fill-color: #FFFFFF;\n",
              "      --disabled-bg-color: #3B4455;\n",
              "      --disabled-fill-color: #666;\n",
              "  }\n",
              "\n",
              "  .colab-df-quickchart {\n",
              "    background-color: var(--bg-color);\n",
              "    border: none;\n",
              "    border-radius: 50%;\n",
              "    cursor: pointer;\n",
              "    display: none;\n",
              "    fill: var(--fill-color);\n",
              "    height: 32px;\n",
              "    padding: 0;\n",
              "    width: 32px;\n",
              "  }\n",
              "\n",
              "  .colab-df-quickchart:hover {\n",
              "    background-color: var(--hover-bg-color);\n",
              "    box-shadow: 0 1px 2px rgba(60, 64, 67, 0.3), 0 1px 3px 1px rgba(60, 64, 67, 0.15);\n",
              "    fill: var(--button-hover-fill-color);\n",
              "  }\n",
              "\n",
              "  .colab-df-quickchart-complete:disabled,\n",
              "  .colab-df-quickchart-complete:disabled:hover {\n",
              "    background-color: var(--disabled-bg-color);\n",
              "    fill: var(--disabled-fill-color);\n",
              "    box-shadow: none;\n",
              "  }\n",
              "\n",
              "  .colab-df-spinner {\n",
              "    border: 2px solid var(--fill-color);\n",
              "    border-color: transparent;\n",
              "    border-bottom-color: var(--fill-color);\n",
              "    animation:\n",
              "      spin 1s steps(1) infinite;\n",
              "  }\n",
              "\n",
              "  @keyframes spin {\n",
              "    0% {\n",
              "      border-color: transparent;\n",
              "      border-bottom-color: var(--fill-color);\n",
              "      border-left-color: var(--fill-color);\n",
              "    }\n",
              "    20% {\n",
              "      border-color: transparent;\n",
              "      border-left-color: var(--fill-color);\n",
              "      border-top-color: var(--fill-color);\n",
              "    }\n",
              "    30% {\n",
              "      border-color: transparent;\n",
              "      border-left-color: var(--fill-color);\n",
              "      border-top-color: var(--fill-color);\n",
              "      border-right-color: var(--fill-color);\n",
              "    }\n",
              "    40% {\n",
              "      border-color: transparent;\n",
              "      border-right-color: var(--fill-color);\n",
              "      border-top-color: var(--fill-color);\n",
              "    }\n",
              "    60% {\n",
              "      border-color: transparent;\n",
              "      border-right-color: var(--fill-color);\n",
              "    }\n",
              "    80% {\n",
              "      border-color: transparent;\n",
              "      border-right-color: var(--fill-color);\n",
              "      border-bottom-color: var(--fill-color);\n",
              "    }\n",
              "    90% {\n",
              "      border-color: transparent;\n",
              "      border-bottom-color: var(--fill-color);\n",
              "    }\n",
              "  }\n",
              "</style>\n",
              "\n",
              "  <script>\n",
              "    async function quickchart(key) {\n",
              "      const quickchartButtonEl =\n",
              "        document.querySelector('#' + key + ' button');\n",
              "      quickchartButtonEl.disabled = true;  // To prevent multiple clicks.\n",
              "      quickchartButtonEl.classList.add('colab-df-spinner');\n",
              "      try {\n",
              "        const charts = await google.colab.kernel.invokeFunction(\n",
              "            'suggestCharts', [key], {});\n",
              "      } catch (error) {\n",
              "        console.error('Error during call to suggestCharts:', error);\n",
              "      }\n",
              "      quickchartButtonEl.classList.remove('colab-df-spinner');\n",
              "      quickchartButtonEl.classList.add('colab-df-quickchart-complete');\n",
              "    }\n",
              "    (() => {\n",
              "      let quickchartButtonEl =\n",
              "        document.querySelector('#df-80454943-8573-40ad-8633-27c0e3e64084 button');\n",
              "      quickchartButtonEl.style.display =\n",
              "        google.colab.kernel.accessAllowed ? 'block' : 'none';\n",
              "    })();\n",
              "  </script>\n",
              "</div>\n",
              "    </div>\n",
              "  </div>\n"
            ],
            "application/vnd.google.colaboratory.intrinsic+json": {
              "type": "dataframe",
              "summary": "{\n  \"name\": \"X_train\",\n  \"rows\": 8,\n  \"fields\": [\n    {\n      \"column\": \"alcohol\",\n      \"properties\": {\n        \"dtype\": \"number\",\n        \"std\": 43.273575064641406,\n        \"min\": 0.8299932196040789,\n        \"max\": 133.0,\n        \"num_unique_values\": 8,\n        \"samples\": [\n          12.972857142857144,\n          12.99,\n          133.0\n        ],\n        \"semantic_type\": \"\",\n        \"description\": \"\"\n      }\n    },\n    {\n      \"column\": \"malic_acid\",\n      \"properties\": {\n        \"dtype\": \"number\",\n        \"std\": 46.19596159068348,\n        \"min\": 0.89,\n        \"max\": 133.0,\n        \"num_unique_values\": 8,\n        \"samples\": [\n          2.386842105263158,\n          1.9,\n          133.0\n        ],\n        \"semantic_type\": \"\",\n        \"description\": \"\"\n      }\n    },\n    {\n      \"column\": \"ash\",\n      \"properties\": {\n        \"dtype\": \"number\",\n        \"std\": 46.30660140338019,\n        \"min\": 0.2806063195736037,\n        \"max\": 133.0,\n        \"num_unique_values\": 8,\n        \"samples\": [\n          2.362180451127819,\n          2.36,\n          133.0\n        ],\n        \"semantic_type\": \"\",\n        \"description\": \"\"\n      }\n    },\n    {\n      \"column\": \"alcalinity_of_ash\",\n      \"properties\": {\n        \"dtype\": \"number\",\n        \"std\": 41.61522416001279,\n        \"min\": 3.467312451899561,\n        \"max\": 133.0,\n        \"num_unique_values\": 8,\n        \"samples\": [\n          19.433834586466165,\n          19.4,\n          133.0\n        ],\n        \"semantic_type\": \"\",\n        \"description\": \"\"\n      }\n    },\n    {\n      \"column\": \"magnesium\",\n      \"properties\": {\n        \"dtype\": \"number\",\n        \"std\": 43.4100234171185,\n        \"min\": 14.999570890801495,\n        \"max\": 162.0,\n        \"num_unique_values\": 8,\n        \"samples\": [\n          100.7593984962406,\n          98.0,\n          133.0\n        ],\n        \"semantic_type\": \"\",\n        \"description\": \"\"\n      }\n    },\n    {\n      \"column\": \"total_phenols\",\n      \"properties\": {\n        \"dtype\": \"number\",\n        \"std\": 46.30075240616088,\n        \"min\": 0.6456964550412675,\n        \"max\": 133.0,\n        \"num_unique_values\": 8,\n        \"samples\": [\n          2.2770676691729324,\n          2.23,\n          133.0\n        ],\n        \"semantic_type\": \"\",\n        \"description\": \"\"\n      }\n    },\n    {\n      \"column\": \"flavanoids\",\n      \"properties\": {\n        \"dtype\": \"number\",\n        \"std\": 46.30434892283126,\n        \"min\": 0.34,\n        \"max\": 133.0,\n        \"num_unique_values\": 8,\n        \"samples\": [\n          2.0212030075187974,\n          2.14,\n          133.0\n        ],\n        \"semantic_type\": \"\",\n        \"description\": \"\"\n      }\n    },\n    {\n      \"column\": \"nonflavanoid_phenols\",\n      \"properties\": {\n        \"dtype\": \"number\",\n        \"std\": 46.90521583235785,\n        \"min\": 0.12692276038648054,\n        \"max\": 133.0,\n        \"num_unique_values\": 8,\n        \"samples\": [\n          0.3635338345864661,\n          0.34,\n          133.0\n        ],\n        \"semantic_type\": \"\",\n        \"description\": \"\"\n      }\n    },\n    {\n      \"column\": \"proanthocyanins\",\n      \"properties\": {\n        \"dtype\": \"number\",\n        \"std\": 46.47941003459148,\n        \"min\": 0.42,\n        \"max\": 133.0,\n        \"num_unique_values\": 8,\n        \"samples\": [\n          1.6086466165413533,\n          1.56,\n          133.0\n        ],\n        \"semantic_type\": \"\",\n        \"description\": \"\"\n      }\n    },\n    {\n      \"column\": \"color_intensity\",\n      \"properties\": {\n        \"dtype\": \"number\",\n        \"std\": 45.397056689072954,\n        \"min\": 1.74,\n        \"max\": 133.0,\n        \"num_unique_values\": 8,\n        \"samples\": [\n          5.0175939849624065,\n          4.8,\n          133.0\n        ],\n        \"semantic_type\": \"\",\n        \"description\": \"\"\n      }\n    },\n    {\n      \"column\": \"hue\",\n      \"properties\": {\n        \"dtype\": \"number\",\n        \"std\": 46.708785635702476,\n        \"min\": 0.23454460755329853,\n        \"max\": 133.0,\n        \"num_unique_values\": 8,\n        \"samples\": [\n          0.9594436090225563,\n          0.97,\n          133.0\n        ],\n        \"semantic_type\": \"\",\n        \"description\": \"\"\n      }\n    },\n    {\n      \"column\": \"od280/od315_of_diluted_wines\",\n      \"properties\": {\n        \"dtype\": \"number\",\n        \"std\": 46.203790047649406,\n        \"min\": 0.7299605634843737,\n        \"max\": 133.0,\n        \"num_unique_values\": 8,\n        \"samples\": [\n          2.61,\n          2.81,\n          133.0\n        ],\n        \"semantic_type\": \"\",\n        \"description\": \"\"\n      }\n    },\n    {\n      \"column\": \"proline\",\n      \"properties\": {\n        \"dtype\": \"number\",\n        \"std\": 456.99588599451135,\n        \"min\": 133.0,\n        \"max\": 1547.0,\n        \"num_unique_values\": 8,\n        \"samples\": [\n          742.9924812030075,\n          675.0,\n          133.0\n        ],\n        \"semantic_type\": \"\",\n        \"description\": \"\"\n      }\n    }\n  ]\n}"
            }
          },
          "metadata": {},
          "execution_count": 7
        }
      ]
    },
    {
      "cell_type": "markdown",
      "source": [
        "## Задание 3"
      ],
      "metadata": {
        "id": "6VANARbT0Vu5"
      }
    },
    {
      "cell_type": "markdown",
      "source": [
        "KNN требует того, чтобы все признаки были одного масштаба, поэтому масштабируйте данные при помощи `StandardScaler`.\n",
        "\n",
        "Напоминаем, что обучать метод нужно только по тренировочным данным, а применять и к трейну, и к тесту.\n",
        "\n",
        "После применения `StandardScaler` преобразуйте `X_train` и `X_test` к типу `pd.DataFrame`, названия новых объектов оставьте `X_train` и `X_test`."
      ],
      "metadata": {
        "id": "e1dfCiISo_GH"
      }
    },
    {
      "cell_type": "code",
      "source": [
        "from sklearn.preprocessing import StandardScaler\n",
        "\n",
        "# ваш код здесь\n",
        "\n",
        "scaler = StandardScaler()\n",
        "scaler.fit(X_train)\n",
        "X_train = pd.DataFrame(scaler.transform(X_train))\n",
        "X_test = pd.DataFrame(scaler.transform(X_test))"
      ],
      "metadata": {
        "id": "IMWxZOLMpLg_"
      },
      "execution_count": 8,
      "outputs": []
    },
    {
      "cell_type": "markdown",
      "source": [
        "Обучите KNN с параметрами по умолчанию на тренировочных данных и сделайте предсказание на тесте."
      ],
      "metadata": {
        "id": "wfjxuX1hyOpd"
      }
    },
    {
      "cell_type": "code",
      "source": [
        "from sklearn.neighbors import KNeighborsClassifier\n",
        "\n",
        "# ваш код здесь\n",
        "clf = KNeighborsClassifier()\n",
        "clf.fit(X_train, y_train)\n",
        "prediction = clf.predict(X_test)"
      ],
      "metadata": {
        "id": "VeyYEAO2yQhL"
      },
      "execution_count": 9,
      "outputs": []
    },
    {
      "cell_type": "markdown",
      "source": [
        "Будем измерять качество модели по метрике weighted $f1$-score.\n",
        "\n",
        "Чтобы выбрать тип усреднения (micro, macro, weighted) в функции `f1_score` необходимо задать этот тип в гиперпараметре `average`.\n",
        "\n",
        "Вычислите $f1$-score на тестовых данных."
      ],
      "metadata": {
        "id": "E18N3QNMrQLw"
      }
    },
    {
      "cell_type": "markdown",
      "source": [
        "**Вопрос:**\n",
        "\n",
        "Чему равен $f1$-score на тестовых данных?"
      ],
      "metadata": {
        "id": "aLaSCeCf0uPd"
      }
    },
    {
      "cell_type": "code",
      "source": [
        "from sklearn.metrics import f1_score\n",
        "\n",
        "# ваш код здесь\n",
        "f1_score(y_test, prediction, average = 'weighted')"
      ],
      "metadata": {
        "id": "TdhIWbULrnPv",
        "outputId": "bd804801-ad7d-401b-a067-39c8632d1d42",
        "colab": {
          "base_uri": "https://localhost:8080/"
        }
      },
      "execution_count": 10,
      "outputs": [
        {
          "output_type": "execute_result",
          "data": {
            "text/plain": [
              "0.9550512333965844"
            ]
          },
          "metadata": {},
          "execution_count": 10
        }
      ]
    },
    {
      "cell_type": "markdown",
      "source": [
        "## Задание 4"
      ],
      "metadata": {
        "id": "kco77ab200s9"
      }
    },
    {
      "cell_type": "markdown",
      "source": [
        "Попробуем улучшить модель.\n",
        "\n",
        "Подберите оптимальное количество соседей (`n_neighbors`) из диапазона *от 3 до 30 с шагом 2* и веса соседей (`weights`):  \n",
        "`uniform`, `distance` по кросс-валидации с тремя фолдами на тренировочных данных.\n",
        "\n",
        "Используйте `GridSearchCV` и метрику `f1_weighted`."
      ],
      "metadata": {
        "id": "BONbGWi1yVIQ"
      }
    },
    {
      "cell_type": "code",
      "source": [
        "from sklearn.model_selection import GridSearchCV\n",
        "\n",
        "# ваш код здесь\n",
        "parameters = {'n_neighbors': list(range(3,32,2)), 'weights':['uniform', 'distance']}\n",
        "knn = KNeighborsClassifier()\n",
        "clf = GridSearchCV(knn, parameters, cv=3, scoring='f1_weighted')\n",
        "clf.fit(X_train, y_train)\n",
        "print('Best parameters:', clf.best_params_)\n",
        "print('Best score:', clf.best_score_)"
      ],
      "metadata": {
        "id": "6nM_wc6iydB-",
        "outputId": "4c930630-cad8-475d-9ea4-46af2ac13c88",
        "colab": {
          "base_uri": "https://localhost:8080/"
        }
      },
      "execution_count": 13,
      "outputs": [
        {
          "output_type": "stream",
          "name": "stdout",
          "text": [
            "Best parameters: {'n_neighbors': 19, 'weights': 'distance'}\n",
            "Best score: 0.9623290498688744\n"
          ]
        }
      ]
    },
    {
      "cell_type": "code",
      "source": [
        "knn_opt = KNeighborsClassifier(n_neighbors = 19, weights = 'distance')\n",
        "knn_opt.fit(X_train, y_train)\n",
        "prediction = knn_opt.predict(X_test)"
      ],
      "metadata": {
        "id": "xY6R-QpYcbUe"
      },
      "execution_count": 16,
      "outputs": []
    },
    {
      "cell_type": "code",
      "source": [
        "f1_score(y_test, prediction, average = 'weighted')"
      ],
      "metadata": {
        "id": "qMB5TnI9cAfm",
        "outputId": "8c0e2956-9d40-43bb-9008-0de28cf1347a",
        "colab": {
          "base_uri": "https://localhost:8080/"
        }
      },
      "execution_count": 17,
      "outputs": [
        {
          "output_type": "execute_result",
          "data": {
            "text/plain": [
              "0.9550512333965844"
            ]
          },
          "metadata": {},
          "execution_count": 17
        }
      ]
    },
    {
      "cell_type": "markdown",
      "source": [
        "Возьмите best_estimator_, полученный при обучении GridSearchCV и с помощью него  \n",
        "сделайте предсказание на тесте и вычислите метрику `f1_weighted`."
      ],
      "metadata": {
        "id": "b6mM-XXps5Af"
      }
    },
    {
      "cell_type": "code",
      "source": [
        "# ваш код здесь\n",
        "f1_score(y_test, prediction, average = 'weighted')"
      ],
      "metadata": {
        "id": "6Sn00daNtGWd",
        "outputId": "7b139a4c-abc8-4ea0-ad9b-e4e2918c15b2",
        "colab": {
          "base_uri": "https://localhost:8080/"
        }
      },
      "execution_count": 18,
      "outputs": [
        {
          "output_type": "execute_result",
          "data": {
            "text/plain": [
              "0.9550512333965844"
            ]
          },
          "metadata": {},
          "execution_count": 18
        }
      ]
    },
    {
      "cell_type": "markdown",
      "source": [
        "**Вопрос:**\n",
        "\n",
        "Удалось ли при помощи подбора гиперпараметров улучшить качество модели на тестовых данных?"
      ],
      "metadata": {
        "id": "HzAQzK3JtT7h"
      }
    },
    {
      "cell_type": "markdown",
      "source": [
        "## Задание 5"
      ],
      "metadata": {
        "id": "iLzHwlkj1cjs"
      }
    },
    {
      "cell_type": "markdown",
      "source": [
        "Выведите на экран матрицу ошибок.\n",
        "\n",
        "Используйте модель с подобранными при помощи `GridSearch` гиперпараметрами.\n"
      ],
      "metadata": {
        "id": "tdm2A5SSylYQ"
      }
    },
    {
      "cell_type": "markdown",
      "source": [
        "**Вопрос:**  \n",
        "По этой матрице определите, какие классы между собой путает модель?"
      ],
      "metadata": {
        "id": "FHgD2EQG1i1V"
      }
    },
    {
      "cell_type": "code",
      "source": [
        "from sklearn.metrics import confusion_matrix\n",
        "\n",
        "# ваш код здесь\n",
        "confusion_matrix(y_test, prediction)"
      ],
      "metadata": {
        "id": "I5u0A5a0yqge",
        "outputId": "eafe95a3-5c52-4eec-fdbd-25b618e7f2e3",
        "colab": {
          "base_uri": "https://localhost:8080/"
        }
      },
      "execution_count": 19,
      "outputs": [
        {
          "output_type": "execute_result",
          "data": {
            "text/plain": [
              "array([[15,  0,  0],\n",
              "       [ 1, 16,  1],\n",
              "       [ 0,  0, 12]])"
            ]
          },
          "metadata": {},
          "execution_count": 19
        }
      ]
    },
    {
      "cell_type": "markdown",
      "source": [
        "## Бонус (эксперименты с LSH)"
      ],
      "metadata": {
        "id": "9qKKGd2eyq6E"
      }
    },
    {
      "cell_type": "markdown",
      "source": [
        "Скопируйте все функции из [ноутбука в уроке \"Быстрый поиск соседей\"](https://colab.research.google.com/drive/181MMOcTnzdMVzJr0pWzqtEG0-BV9BIHH)."
      ],
      "metadata": {
        "id": "l-_YTZzg1qnq"
      }
    },
    {
      "cell_type": "code",
      "source": [
        "# ваш код здесь\n",
        "def knn_search(query, data, k=5):\n",
        "\n",
        "    dists = np.sqrt(np.sum((data - query) ** 2, axis=1))  # вычисляем расстояния от объекта query до всех точек датасета\n",
        "    inds = np.argsort(dists)  # сортируем по возрастанию расстояний\n",
        "    inds_k = inds[:k]         # берем top-k точек с наименьшими расстояниями\n",
        "\n",
        "    return data[inds_k], dists[inds_k]\n",
        "\n",
        "def generate_hyperplanes(data, bucket_size=16):\n",
        "    m = data.shape[0]            # число объектов\n",
        "    n = data.shape[1]            # число признаков\n",
        "    b = m // bucket_size         # количество корзин\n",
        "    h = int(np.log2(b))          # количество гиперплоскостей\n",
        "    H = rng.normal(size=(h, n))  # гиперплоскости, заданные своими нормалями\n",
        "    return H\n",
        "\n",
        "def hamming_hash(data, hyperplanes):\n",
        "    b = len(hyperplanes)\n",
        "    hash_key = (data @ hyperplanes.T) >= 0\n",
        "\n",
        "    dec_vals = np.array([2 ** i for i in range(b)], dtype=int)\n",
        "    hash_key = hash_key @ dec_vals\n",
        "\n",
        "    return hash_key\n",
        "\n",
        "def locality_sensitive_hash(data, hyperplanes):\n",
        "    hash_vals = hamming_hash(data, hyperplanes)\n",
        "    hash_table = {}\n",
        "    for i, v in enumerate(hash_vals):\n",
        "        if v not in hash_table:\n",
        "            hash_table[v] = set()\n",
        "        hash_table[v].add(i)\n",
        "\n",
        "    return hash_table\n",
        "\n",
        "def approx_knn_search(query, data, k=5, bucket_size=16):\n",
        "    candidates = set()\n",
        "\n",
        "    hyperplanes = generate_hyperplanes(data)\n",
        "    hash_table = locality_sensitive_hash(data, hyperplanes) # формируем хеш-таблицу по датасету\n",
        "\n",
        "    query_hash = hamming_hash(query, hyperplanes)\n",
        "    if query_hash in hash_table:\n",
        "        candidates = candidates.union(hash_table[query_hash])\n",
        "    candidates = np.stack([data[i] for i in candidates], axis=0) # находим кандидатов = объекты, попадающие с query в одну корзину\n",
        "\n",
        "    return knn_search(query, candidates, k=k) # с помощью KNN ищем ближайших соседей только из найденных кандидатов"
      ],
      "metadata": {
        "id": "ia2GsrwKy5co"
      },
      "execution_count": 20,
      "outputs": []
    },
    {
      "cell_type": "markdown",
      "source": [
        "При помощи `knn_search` найдите ближайших соседей к вину `X_test.iloc[0]` в **тренировочных** данных.\n",
        "\n",
        "Обратите внимание, что функция `knn_search` принимает на вход `np.array`, а не `pd.DataFrame`. Поэтому переведите аргументы в `np.array`, приписав к необходимому объекту $X$: `X.values`."
      ],
      "metadata": {
        "id": "nYFSYav3vzVC"
      }
    },
    {
      "cell_type": "code",
      "source": [
        "%%time\n",
        "\n",
        "# ваш код здесь\n",
        "knn_search(X_test.iloc[0].values, X_train.values, k=5)"
      ],
      "metadata": {
        "id": "NB-UNOgUunot",
        "outputId": "f1ff7b4e-5906-44a8-c344-64545638f694",
        "colab": {
          "base_uri": "https://localhost:8080/"
        }
      },
      "execution_count": 22,
      "outputs": [
        {
          "output_type": "stream",
          "name": "stdout",
          "text": [
            "CPU times: user 1.07 ms, sys: 926 µs, total: 2 ms\n",
            "Wall time: 3.78 ms\n"
          ]
        },
        {
          "output_type": "execute_result",
          "data": {
            "text/plain": [
              "(array([[ 1.50827494,  1.46438454,  0.52877788, -1.80468392,  1.82295821,\n",
              "          1.12384935,  1.01701759, -1.2933229 ,  0.82004316,  0.03755595,\n",
              "         -0.29719787,  1.26510707,  0.05563253],\n",
              "        [ 0.92777049, -0.65479046, -0.40129023, -0.87828967,  1.15375191,\n",
              "          0.50202111,  0.87726211, -1.21423695,  0.0197522 ,  0.37936305,\n",
              "         -0.16880684,  0.81131867,  1.03694899],\n",
              "        [-0.05183075,  1.29083141,  1.02958379, -0.24139362,  0.08302183,\n",
              "          0.20665269,  0.38811793, -0.89789314,  0.64606686, -0.23588973,\n",
              "          0.30196024,  1.25135591,  0.08834308],\n",
              "        [ 1.50827494, -0.62738734, -0.22243098, -0.90723949,  1.15375191,\n",
              "          1.43476348,  0.97708746, -0.81880719,  0.73305501,  0.62090673,\n",
              "         -0.08321283,  0.96258147,  0.74255405],\n",
              "        [ 1.31477345, -0.69132796, -0.29397468, -0.99408895,  1.68911695,\n",
              "          1.12384935,  1.14679054, -0.97697909,  0.85483842,  0.28821449,\n",
              "          0.55874228,  1.51262802,  0.12105362]]),\n",
              " array([1.7873321 , 1.98096241, 2.16010164, 2.27097456, 2.31179552]))"
            ]
          },
          "metadata": {},
          "execution_count": 22
        }
      ]
    },
    {
      "cell_type": "markdown",
      "source": [
        "Выведите на экран признаки объекта `X_test.iloc[0]` и признаки ближайшего найденного соседа."
      ],
      "metadata": {
        "id": "y86BRzABvLHB"
      }
    },
    {
      "cell_type": "code",
      "source": [
        "# ваш код здесь\n",
        "X_test.iloc[0]"
      ],
      "metadata": {
        "id": "Mi18Sp2WvQYE",
        "outputId": "3cfc5d90-0a89-49e7-8bc6-5017fc9a0ad3",
        "colab": {
          "base_uri": "https://localhost:8080/"
        }
      },
      "execution_count": 23,
      "outputs": [
        {
          "output_type": "execute_result",
          "data": {
            "text/plain": [
              "0     0.806832\n",
              "1     0.651425\n",
              "2     0.707637\n",
              "3    -1.225688\n",
              "4     1.019911\n",
              "5     0.657478\n",
              "6     1.007035\n",
              "7    -1.530581\n",
              "8     0.089343\n",
              "9     0.037556\n",
              "10    0.002381\n",
              "11    1.031337\n",
              "12    0.333672\n",
              "Name: 0, dtype: float64"
            ]
          },
          "metadata": {},
          "execution_count": 23
        }
      ]
    },
    {
      "cell_type": "code",
      "source": [
        "knn_search(X_test.iloc[0].values, X_train.values, k=5)[0][0]"
      ],
      "metadata": {
        "id": "6N8OYpPbgBKY",
        "outputId": "20c18043-4c4e-44a0-a908-04e277c66744",
        "colab": {
          "base_uri": "https://localhost:8080/"
        }
      },
      "execution_count": 25,
      "outputs": [
        {
          "output_type": "execute_result",
          "data": {
            "text/plain": [
              "array([ 1.50827494,  1.46438454,  0.52877788, -1.80468392,  1.82295821,\n",
              "        1.12384935,  1.01701759, -1.2933229 ,  0.82004316,  0.03755595,\n",
              "       -0.29719787,  1.26510707,  0.05563253])"
            ]
          },
          "metadata": {},
          "execution_count": 25
        }
      ]
    },
    {
      "cell_type": "markdown",
      "source": [
        "**Вопрос:**\n",
        "\n",
        "Можно ли сказать, что в тренировочных данных есть вино, почти такое же как `X_test.iloc[0]`? (все признаки почти одинаковые)\n",
        "\n",
        "Какое расстояние между объектом запроса и первым ближайшим соседом?"
      ],
      "metadata": {
        "id": "3aeCTiYnx2_q"
      }
    },
    {
      "cell_type": "markdown",
      "source": [
        "Теперь найдите ближайшего соседа при помощи `approx_knn_search`."
      ],
      "metadata": {
        "id": "zWEBfyAay53O"
      }
    },
    {
      "cell_type": "code",
      "source": [
        "%%time\n",
        "\n",
        "# ваш код здесь\n",
        "approx_knn_search(X_test.iloc[0].values, X_train.values, k=1)"
      ],
      "metadata": {
        "id": "ezxEITyiy-1a",
        "outputId": "bd401be2-f7d9-4c59-e59c-4aabe0dcf837",
        "colab": {
          "base_uri": "https://localhost:8080/"
        }
      },
      "execution_count": 27,
      "outputs": [
        {
          "output_type": "stream",
          "name": "stdout",
          "text": [
            "CPU times: user 2.35 ms, sys: 0 ns, total: 2.35 ms\n",
            "Wall time: 2.45 ms\n"
          ]
        },
        {
          "output_type": "execute_result",
          "data": {
            "text/plain": [
              "(array([[ 1.50827494,  1.46438454,  0.52877788, -1.80468392,  1.82295821,\n",
              "          1.12384935,  1.01701759, -1.2933229 ,  0.82004316,  0.03755595,\n",
              "         -0.29719787,  1.26510707,  0.05563253]]),\n",
              " array([1.7873321]))"
            ]
          },
          "metadata": {},
          "execution_count": 27
        }
      ]
    },
    {
      "cell_type": "markdown",
      "source": [
        "Ближайший сосед при помощи KNN+LSH может быть найден не точно или не с первого запуска.  \n",
        "Запустите последнюю ячейку несколько раз и убедитесь, что ближайший сосед находится верно за несколько запусков."
      ],
      "metadata": {
        "id": "sCPx6pgnwRqX"
      }
    },
    {
      "cell_type": "markdown",
      "source": [
        "**Вопрос:**\n",
        "\n",
        "Запустите `knn_search` и `appox_knn_search` несколько раз и сравните время запусков. Какой из подходов в этой задаче работает быстрее?"
      ],
      "metadata": {
        "id": "Rpj5qiwi2IJq"
      }
    }
  ]
}
